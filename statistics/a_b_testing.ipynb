{
 "cells": [
  {
   "cell_type": "markdown",
   "metadata": {},
   "source": [
    "## Math behind A/B testing\n",
    "\n",
    "key points:\n",
    "\n",
    "1. controlled test to seek impacts"
   ]
  },
  {
   "cell_type": "code",
   "execution_count": 65,
   "metadata": {},
   "outputs": [],
   "source": [
    "bcr = 0.1 # baseline conversion rate\n",
    "d_hat = 0.02 # diff btwn the groups"
   ]
  },
  {
   "cell_type": "markdown",
   "metadata": {},
   "source": [
    "#### Control Group(A) and Test Group(B)"
   ]
  },
  {
   "cell_type": "code",
   "execution_count": 66,
   "metadata": {},
   "outputs": [],
   "source": [
    "# generate data\n",
    "import scipy.stats as scs\n",
    "import pandas as pd\n",
    "import numpy as np\n",
    "\n",
    "# create group column\n",
    "N_A = 1000\n",
    "N_B = 1000\n",
    "bern_group = scs.bernoulli(N_A / (N_A + N_B))\n",
    "group = bern_group.rvs(2000)\n",
    "# creat converted column\n",
    "converted = []\n",
    "for _ in range(len(group)):\n",
    "    if group[_] == 0:\n",
    "        converted.append(scs.bernoulli(bcr).rvs()) # FAKE CLICK THROUGH RATE\n",
    "    else:\n",
    "        converted.append(scs.bernoulli(bcr + d_hat).rvs()) # FAKE CLICK THROUGH RATE WITH DIFF OF 0.02\n",
    "data = pd.DataFrame(list(zip(converted, group)),columns =['converted', 'group'])"
   ]
  },
  {
   "cell_type": "code",
   "execution_count": 67,
   "metadata": {},
   "outputs": [
    {
     "data": {
      "text/html": [
       "<div>\n",
       "<style scoped>\n",
       "    .dataframe tbody tr th:only-of-type {\n",
       "        vertical-align: middle;\n",
       "    }\n",
       "\n",
       "    .dataframe tbody tr th {\n",
       "        vertical-align: top;\n",
       "    }\n",
       "\n",
       "    .dataframe thead th {\n",
       "        text-align: right;\n",
       "    }\n",
       "</style>\n",
       "<table border=\"1\" class=\"dataframe\">\n",
       "  <thead>\n",
       "    <tr style=\"text-align: right;\">\n",
       "      <th></th>\n",
       "      <th>converted</th>\n",
       "      <th>group</th>\n",
       "    </tr>\n",
       "  </thead>\n",
       "  <tbody>\n",
       "    <tr>\n",
       "      <th>0</th>\n",
       "      <td>0</td>\n",
       "      <td>A</td>\n",
       "    </tr>\n",
       "    <tr>\n",
       "      <th>1</th>\n",
       "      <td>0</td>\n",
       "      <td>B</td>\n",
       "    </tr>\n",
       "    <tr>\n",
       "      <th>2</th>\n",
       "      <td>0</td>\n",
       "      <td>A</td>\n",
       "    </tr>\n",
       "    <tr>\n",
       "      <th>3</th>\n",
       "      <td>0</td>\n",
       "      <td>B</td>\n",
       "    </tr>\n",
       "    <tr>\n",
       "      <th>4</th>\n",
       "      <td>0</td>\n",
       "      <td>A</td>\n",
       "    </tr>\n",
       "    <tr>\n",
       "      <th>...</th>\n",
       "      <td>...</td>\n",
       "      <td>...</td>\n",
       "    </tr>\n",
       "    <tr>\n",
       "      <th>1995</th>\n",
       "      <td>0</td>\n",
       "      <td>B</td>\n",
       "    </tr>\n",
       "    <tr>\n",
       "      <th>1996</th>\n",
       "      <td>0</td>\n",
       "      <td>B</td>\n",
       "    </tr>\n",
       "    <tr>\n",
       "      <th>1997</th>\n",
       "      <td>0</td>\n",
       "      <td>B</td>\n",
       "    </tr>\n",
       "    <tr>\n",
       "      <th>1998</th>\n",
       "      <td>0</td>\n",
       "      <td>A</td>\n",
       "    </tr>\n",
       "    <tr>\n",
       "      <th>1999</th>\n",
       "      <td>0</td>\n",
       "      <td>A</td>\n",
       "    </tr>\n",
       "  </tbody>\n",
       "</table>\n",
       "<p>2000 rows × 2 columns</p>\n",
       "</div>"
      ],
      "text/plain": [
       "      converted group\n",
       "0             0     A\n",
       "1             0     B\n",
       "2             0     A\n",
       "3             0     B\n",
       "4             0     A\n",
       "...         ...   ...\n",
       "1995          0     B\n",
       "1996          0     B\n",
       "1997          0     B\n",
       "1998          0     A\n",
       "1999          0     A\n",
       "\n",
       "[2000 rows x 2 columns]"
      ]
     },
     "execution_count": 67,
     "metadata": {},
     "output_type": "execute_result"
    }
   ],
   "source": [
    "data['group'] = data['group'].apply(lambda x : 'A' if x == 0 else 'B')\n",
    "data"
   ]
  },
  {
   "cell_type": "code",
   "execution_count": 68,
   "metadata": {},
   "outputs": [],
   "source": [
    "summary = data.pivot_table(values = 'converted', index = 'group', aggfunc = np.sum)\n",
    "summary[\"total\"] = [data.group.value_counts()['A'],data.group.value_counts()['B']]\n",
    "summary[\"rate\"] = summary[\"converted\"]/summary[\"total\"]"
   ]
  },
  {
   "cell_type": "code",
   "execution_count": 69,
   "metadata": {},
   "outputs": [
    {
     "data": {
      "text/html": [
       "<div>\n",
       "<style scoped>\n",
       "    .dataframe tbody tr th:only-of-type {\n",
       "        vertical-align: middle;\n",
       "    }\n",
       "\n",
       "    .dataframe tbody tr th {\n",
       "        vertical-align: top;\n",
       "    }\n",
       "\n",
       "    .dataframe thead th {\n",
       "        text-align: right;\n",
       "    }\n",
       "</style>\n",
       "<table border=\"1\" class=\"dataframe\">\n",
       "  <thead>\n",
       "    <tr style=\"text-align: right;\">\n",
       "      <th></th>\n",
       "      <th>converted</th>\n",
       "      <th>total</th>\n",
       "      <th>rate</th>\n",
       "    </tr>\n",
       "    <tr>\n",
       "      <th>group</th>\n",
       "      <th></th>\n",
       "      <th></th>\n",
       "      <th></th>\n",
       "    </tr>\n",
       "  </thead>\n",
       "  <tbody>\n",
       "    <tr>\n",
       "      <th>A</th>\n",
       "      <td>99</td>\n",
       "      <td>992</td>\n",
       "      <td>0.099798</td>\n",
       "    </tr>\n",
       "    <tr>\n",
       "      <th>B</th>\n",
       "      <td>128</td>\n",
       "      <td>1008</td>\n",
       "      <td>0.126984</td>\n",
       "    </tr>\n",
       "  </tbody>\n",
       "</table>\n",
       "</div>"
      ],
      "text/plain": [
       "       converted  total      rate\n",
       "group                            \n",
       "A             99    992  0.099798\n",
       "B            128   1008  0.126984"
      ]
     },
     "execution_count": 69,
     "metadata": {},
     "output_type": "execute_result"
    }
   ],
   "source": [
    "summary"
   ]
  },
  {
   "cell_type": "code",
   "execution_count": 70,
   "metadata": {},
   "outputs": [
    {
     "data": {
      "text/plain": [
       "0.027804959561374607"
      ]
     },
     "execution_count": 70,
     "metadata": {},
     "output_type": "execute_result"
    }
   ],
   "source": [
    "# calculate statistics\n",
    "\n",
    "Ppool = (summary.converted.A + summary.converted.B) / (summary.total.A + summary.total.B)\n",
    "SE = np.sqrt(Ppool * (1 - Ppool) * (1 / summary.total.A + 1 / summary.total.B))\n",
    "conf = 1.96 * SE # 95% based on Gaussian distribution\n",
    "conf"
   ]
  },
  {
   "cell_type": "code",
   "execution_count": 71,
   "metadata": {},
   "outputs": [
    {
     "data": {
      "text/plain": [
       "group\n",
       "A         NaN\n",
       "B   -0.027186\n",
       "Name: rate, dtype: float64"
      ]
     },
     "execution_count": 71,
     "metadata": {},
     "output_type": "execute_result"
    }
   ],
   "source": [
    "- summary.rate.diff()"
   ]
  },
  {
   "cell_type": "markdown",
   "metadata": {},
   "source": [
    "\\< 0.02665.. , statistically NOT significant"
   ]
  },
  {
   "cell_type": "code",
   "execution_count": 72,
   "metadata": {},
   "outputs": [
    {
     "data": {
      "image/png": "[encoded data removed]",
      "text/plain": [
       "<Figure size 864x432 with 1 Axes>"
      ]
     },
     "metadata": {
      "needs_background": "light"
     },
     "output_type": "display_data"
    }
   ],
   "source": [
    "import matplotlib.pyplot as plt\n",
    "\n",
    "fig, ax = plt.subplots(figsize = (12,6))\n",
    "x = np.linspace(summary.converted.A-49,summary.converted.A+50,100)\n",
    "y = scs.binom(summary.total.A,summary.rate.A).pmf(x)\n",
    "ax.bar(x,y,alpha = 0.5)\n",
    "ax.axvline(summary.rate.B * summary.total.A, c='k', linestyle='-')\n",
    "plt.xlabel('converted')\n",
    "plt.ylabel('probability')\n",
    "plt.show()"
   ]
  },
  {
   "cell_type": "code",
   "execution_count": 73,
   "metadata": {},
   "outputs": [
    {
     "data": {
      "image/png": "[encoded data removed]",
      "text/plain": [
       "<Figure size 432x288 with 1 Axes>"
      ]
     },
     "metadata": {
      "needs_background": "light"
     },
     "output_type": "display_data"
    }
   ],
   "source": [
    "import numpy as np\n",
    "import matplotlib.pyplot as plt\n",
    "x = [1, 2, 3]\n",
    "y = np.array([[1, 2], [3, 4], [5, 6]])\n",
    "plt.plot(x, y,'o-');\n",
    "plt.xticks(np.arange(min(x), max(x)+1, 1.0))\n",
    "for _ in range(y.shape[1]):\n",
    "    for xs,ys in zip(x,y[:,_]):\n",
    "        label = \"{:.2f}\".format(ys)\n",
    "        plt.annotate(label, # this is the text\n",
    "                     (xs,ys), # these are the coordinates to position the label\n",
    "                     textcoords=\"offset points\", # how to position the text\n",
    "                     xytext=(0,10), # distance from text to points (x,y)\n",
    "                     ha='center') # horizontal alignment can be left, right or center\n"
   ]
  },
  {
   "cell_type": "code",
   "execution_count": 74,
   "metadata": {},
   "outputs": [
    {
     "name": "stdout",
     "output_type": "stream",
     "text": [
      "16.881943016134134\n"
     ]
    }
   ],
   "source": [
    "sum = 0\n",
    "ls = [x**2 for x in range(10)]\n",
    "print(np.sqrt(np.sum(ls)))"
   ]
  },
  {
   "cell_type": "code",
   "execution_count": 75,
   "metadata": {},
   "outputs": [
    {
     "name": "stderr",
     "output_type": "stream",
     "text": [
      "100%|██████████| 100/100 [00:11<00:00,  8.88it/s]\n"
     ]
    }
   ],
   "source": [
    "import tqdm\n",
    "import random\n",
    "\n",
    "for i in tqdm.tqdm(range(100)):\n",
    "    # do something slow\n",
    "    _ = [random.random() for _ in range(1000000)]"
   ]
  },
  {
   "cell_type": "code",
   "execution_count": 77,
   "metadata": {},
   "outputs": [
    {
     "name": "stderr",
     "output_type": "stream",
     "text": [
      "4 primes: 100%|██████████| 7/7 [00:00<00:00, 983.29it/s]\n"
     ]
    }
   ],
   "source": [
    "with tqdm.trange(3, n) as t:\n",
    "        for i in t:\n",
    "            # i is prime if no smaller prime divides it\n",
    "            i_is_prime = not any(i % p == 0 for p in primes)\n",
    "            if i_is_prime:\n",
    "                primes.append(i)\n",
    "\n",
    "            t.set_description(f\"{len(primes)} primes\")   "
   ]
  },
  {
   "cell_type": "code",
   "execution_count": 2,
   "metadata": {},
   "outputs": [],
   "source": [
    "#!pip install PyMySQL\n"
   ]
  },
  {
   "cell_type": "code",
   "execution_count": 11,
   "metadata": {},
   "outputs": [],
   "source": [
    "import pymysql\n",
    "\n",
    "db = pymysql.connect(host = \"localhost\",user = \"root\",password = 'archie-0714',database = 'sakila')"
   ]
  },
  {
   "cell_type": "code",
   "execution_count": 13,
   "metadata": {},
   "outputs": [
    {
     "name": "stdout",
     "output_type": "stream",
     "text": [
      "8.0.25\n"
     ]
    }
   ],
   "source": [
    "with db.cursor() as cursor:   \n",
    "    sql = \"select VERSION()\"\n",
    "    cursor.execute(sql)\n",
    "    data = cursor.fetchone()[0]\n",
    "    print(data)"
   ]
  },
  {
   "cell_type": "code",
   "execution_count": null,
   "metadata": {},
   "outputs": [],
   "source": []
  }
 ],
 "metadata": {
  "kernelspec": {
   "display_name": "Python [conda env:575]",
   "language": "python",
   "name": "conda-env-575-py"
  },
  "language_info": {
   "codemirror_mode": {
    "name": "ipython",
    "version": 3
   },
   "file_extension": ".py",
   "mimetype": "text/x-python",
   "name": "python",
   "nbconvert_exporter": "python",
   "pygments_lexer": "ipython3",
   "version": "3.8.8"
  }
 },
 "nbformat": 4,
 "nbformat_minor": 4
}
