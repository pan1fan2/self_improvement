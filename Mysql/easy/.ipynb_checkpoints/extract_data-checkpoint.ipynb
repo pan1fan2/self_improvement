{
 "cells": [
  {
   "cell_type": "markdown",
   "metadata": {},
   "source": [
    "### Extract input data from a markdown table"
   ]
  },
  {
   "cell_type": "code",
   "execution_count": null,
   "metadata": {},
   "outputs": [],
   "source": [
    "# test\n",
    "str = \"\"\"\n",
    "-- | 1          | 1            | 2020-06-01  | 1            | 10          |\n",
    "-- | 2          | 1            | 2020-06-08  | 2            | 10          |\n",
    "-- | 3          | 2            | 2020-06-02  | 1            | 5           |\n",
    "-- | 4          | 3            | 2020-06-03  | 3            | 5           |\n",
    "-- | 5          | 4            | 2020-06-04  | 4            | 1           |\n",
    "-- | 6          | 4            | 2020-06-05  | 5            | 5           |\n",
    "-- | 7          | 5            | 2020-06-05  | 1            | 10          |\n",
    "-- | 8          | 5            | 2020-06-14  | 4            | 5           |\n",
    "-- | 9          | 5            | 2020-06-21  | 3            | 5           |\n",
    "\"\"\""
   ]
  },
  {
   "cell_type": "code",
   "execution_count": null,
   "metadata": {},
   "outputs": [],
   "source": [
    "str_split = str.split(\"\\n\")[1:-1]\n",
    "str_split"
   ]
  },
  {
   "cell_type": "code",
   "execution_count": null,
   "metadata": {},
   "outputs": [],
   "source": [
    "for i in range(len(str_split)):\n",
    "    ls = str_split[i].split('|')\n",
    "    for _ in range(len(ls)):\n",
    "        ls[_]= ls[_].strip()\n",
    "    str_split[i] = tuple(ls[1:-1])"
   ]
  },
  {
   "cell_type": "code",
   "execution_count": null,
   "metadata": {},
   "outputs": [],
   "source": [
    "for _ in str_split:\n",
    "    print(_)"
   ]
  },
  {
   "cell_type": "code",
   "execution_count": null,
   "metadata": {},
   "outputs": [],
   "source": []
  }
 ],
 "metadata": {
  "kernelspec": {
   "display_name": "Python [conda env:575]",
   "language": "python",
   "name": "conda-env-575-py"
  },
  "language_info": {
   "codemirror_mode": {
    "name": "ipython",
    "version": 3
   },
   "file_extension": ".py",
   "mimetype": "text/x-python",
   "name": "python",
   "nbconvert_exporter": "python",
   "pygments_lexer": "ipython3",
   "version": "3.8.8"
  }
 },
 "nbformat": 4,
 "nbformat_minor": 4
}
