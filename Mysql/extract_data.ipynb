{
 "cells": [
  {
   "cell_type": "markdown",
   "metadata": {},
   "source": [
    "### Extract input data from a markdown table"
   ]
  },
  {
   "cell_type": "code",
   "execution_count": 8,
   "metadata": {},
   "outputs": [],
   "source": [
    "# test\n",
    "data = \"\"\"\n",
    "-- | 1       | 1    |\n",
    "-- | 2       | 0    |\n",
    "-- | 3       | 1    |\n",
    "-- | 4       | 1    |\n",
    "-- | 5       | 1    |\n",
    "\"\"\""
   ]
  },
  {
   "cell_type": "code",
   "execution_count": 9,
   "metadata": {},
   "outputs": [],
   "source": [
    "table_info = \"\"\"\n",
    "-- | seat_id            | int NOT NULL AUTO_INCREMENT |\n",
    "-- | free          | bool |\n",
    "\"\"\""
   ]
  },
  {
   "cell_type": "code",
   "execution_count": 10,
   "metadata": {},
   "outputs": [],
   "source": [
    "table_name = 'seats'"
   ]
  },
  {
   "cell_type": "code",
   "execution_count": 11,
   "metadata": {},
   "outputs": [],
   "source": [
    "def extract (str):\n",
    "    # exclude empty rows (head and tail)\n",
    "    str_split = str.split(\"\\n\")[1:-1]\n",
    "    # split string based on '|'\n",
    "    for i in range(len(str_split)):\n",
    "        ls = str_split[i].split('|')\n",
    "        # drop space\n",
    "        for _ in range(len(ls)):\n",
    "            ls[_]= ls[_].strip()\n",
    "        # exclude the 1st (--) and last (empty) elements\n",
    "        str_split[i] = tuple(ls[1:-1])\n",
    "    return str_split"
   ]
  },
  {
   "cell_type": "code",
   "execution_count": 12,
   "metadata": {},
   "outputs": [],
   "source": [
    "input_data = extract(data)\n",
    "column_info = extract(table_info)\n",
    "col_ = [x[0] for x in column_info]"
   ]
  },
  {
   "cell_type": "code",
   "execution_count": 13,
   "metadata": {},
   "outputs": [
    {
     "name": "stdout",
     "output_type": "stream",
     "text": [
      "Create table If Not Exists seats (seat_id int NOT NULL AUTO_INCREMENT,free bool);\n"
     ]
    }
   ],
   "source": [
    "ls = [' '.join(x) for x in column_info]\n",
    "print(f'Create table If Not Exists {table_name} (',end = '')\n",
    "print(*ls, sep = ',', end='') \n",
    "print(');')"
   ]
  },
  {
   "cell_type": "code",
   "execution_count": 14,
   "metadata": {},
   "outputs": [
    {
     "name": "stdout",
     "output_type": "stream",
     "text": [
      "insert into seats (seat_id,free) values ('1', '1');\n",
      "insert into seats (seat_id,free) values ('2', '0');\n",
      "insert into seats (seat_id,free) values ('3', '1');\n",
      "insert into seats (seat_id,free) values ('4', '1');\n",
      "insert into seats (seat_id,free) values ('5', '1');\n"
     ]
    }
   ],
   "source": [
    "col_name = tuple(col_)\n",
    "\n",
    "for _ in input_data:\n",
    "    print(f'insert into {table_name} (',end = '')\n",
    "    print(*col_name, sep = ',', end='') \n",
    "    print(f') values {_}',end = '')\n",
    "    print(';')\n",
    "    "
   ]
  },
  {
   "cell_type": "code",
   "execution_count": null,
   "metadata": {},
   "outputs": [],
   "source": []
  }
 ],
 "metadata": {
  "kernelspec": {
   "display_name": "Python [conda env:575]",
   "language": "python",
   "name": "conda-env-575-py"
  },
  "language_info": {
   "codemirror_mode": {
    "name": "ipython",
    "version": 3
   },
   "file_extension": ".py",
   "mimetype": "text/x-python",
   "name": "python",
   "nbconvert_exporter": "python",
   "pygments_lexer": "ipython3",
   "version": "3.8.8"
  }
 },
 "nbformat": 4,
 "nbformat_minor": 4
}
