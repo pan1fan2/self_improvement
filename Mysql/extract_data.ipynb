{
 "cells": [
  {
   "cell_type": "markdown",
   "metadata": {},
   "source": [
    "### Extract input data from a markdown table"
   ]
  },
  {
   "cell_type": "code",
   "execution_count": 22,
   "metadata": {},
   "outputs": [],
   "source": [
    "# test\n",
    "data = \"\"\"\n",
    "| 1  | Joe   | 70000  | 1            |\n",
    "| 2  | Jim   | 90000  | 1            |\n",
    "| 3  | Henry | 80000  | 2            |\n",
    "| 4  | Sam   | 60000  | 2            |\n",
    "| 5  | Max   | 90000  | 1            |\n",
    "\"\"\""
   ]
  },
  {
   "cell_type": "code",
   "execution_count": 23,
   "metadata": {},
   "outputs": [],
   "source": [
    "table_info = \"\"\"\n",
    "| Id          | int     |\n",
    "| Name         | varchar(10) |\n",
    "| Salary         | int |\n",
    "| DepartmentId         | int |\n",
    "\"\"\""
   ]
  },
  {
   "cell_type": "code",
   "execution_count": 24,
   "metadata": {},
   "outputs": [],
   "source": [
    "table_name = 'Employee'"
   ]
  },
  {
   "cell_type": "code",
   "execution_count": 25,
   "metadata": {},
   "outputs": [],
   "source": [
    "def extract (str):\n",
    "    # exclude empty rows (head and tail)\n",
    "    str_split = str.split(\"\\n\")[1:-1]\n",
    "    # split string based on '|'\n",
    "    for i in range(len(str_split)):\n",
    "        ls = str_split[i].split('|')\n",
    "        # drop space\n",
    "        for _ in range(len(ls)):\n",
    "            ls[_]= ls[_].strip()\n",
    "        # exclude the 1st (--) and last (empty) elements\n",
    "        str_split[i] = tuple(ls[1:-1])\n",
    "    return str_split"
   ]
  },
  {
   "cell_type": "code",
   "execution_count": 26,
   "metadata": {},
   "outputs": [],
   "source": [
    "input_data = extract(data)\n",
    "column_info = extract(table_info)\n",
    "col_ = [x[0] for x in column_info]"
   ]
  },
  {
   "cell_type": "code",
   "execution_count": 27,
   "metadata": {},
   "outputs": [
    {
     "name": "stdout",
     "output_type": "stream",
     "text": [
      "Create table If Not Exists Employee (Id int,Name varchar(10),Salary int,DepartmentId int);\n",
      "insert into Employee (Id,Name,Salary,DepartmentId) values ('1', 'Joe', '70000', '1');\n",
      "insert into Employee (Id,Name,Salary,DepartmentId) values ('2', 'Jim', '90000', '1');\n",
      "insert into Employee (Id,Name,Salary,DepartmentId) values ('3', 'Henry', '80000', '2');\n",
      "insert into Employee (Id,Name,Salary,DepartmentId) values ('4', 'Sam', '60000', '2');\n",
      "insert into Employee (Id,Name,Salary,DepartmentId) values ('5', 'Max', '90000', '1');\n"
     ]
    }
   ],
   "source": [
    "ls = [' '.join(x) for x in column_info]\n",
    "print(f'Create table If Not Exists {table_name} (',end = '')\n",
    "print(*ls, sep = ',', end='') \n",
    "print(');')\n",
    "\n",
    "\n",
    "col_name = tuple(col_)\n",
    "\n",
    "for _ in input_data:\n",
    "    print(f'insert into {table_name} (',end = '')\n",
    "    print(*col_name, sep = ',', end='') \n",
    "    print(f') values {_}',end = '')\n",
    "    print(';')"
   ]
  },
  {
   "cell_type": "code",
   "execution_count": null,
   "metadata": {},
   "outputs": [],
   "source": []
  }
 ],
 "metadata": {
  "kernelspec": {
   "display_name": "Python [conda env:575]",
   "language": "python",
   "name": "conda-env-575-py"
  },
  "language_info": {
   "codemirror_mode": {
    "name": "ipython",
    "version": 3
   },
   "file_extension": ".py",
   "mimetype": "text/x-python",
   "name": "python",
   "nbconvert_exporter": "python",
   "pygments_lexer": "ipython3",
   "version": "3.8.8"
  }
 },
 "nbformat": 4,
 "nbformat_minor": 4
}
