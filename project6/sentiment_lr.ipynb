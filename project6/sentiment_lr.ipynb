{
 "cells": [
  {
   "cell_type": "markdown",
   "metadata": {},
   "source": [
    "# Sentiment analysis : Logistic regression\n",
    "\n",
    "_deeplearning.ai/Natural Language Processing Specialization_"
   ]
  },
  {
   "cell_type": "code",
   "execution_count": 1,
   "metadata": {},
   "outputs": [],
   "source": [
    "import nltk\n",
    "import os\n",
    "import pandas as pd\n",
    "import numpy as np\n",
    "from nltk.corpus import twitter_samples"
   ]
  },
  {
   "cell_type": "markdown",
   "metadata": {},
   "source": [
    "#### Prepare the data"
   ]
  },
  {
   "cell_type": "code",
   "execution_count": 2,
   "metadata": {},
   "outputs": [],
   "source": [
    "#nltk.download(\"twitter_samples\")"
   ]
  },
  {
   "cell_type": "code",
   "execution_count": 3,
   "metadata": {},
   "outputs": [],
   "source": [
    "all_pos_tweets = twitter_samples.strings(\"positive_tweets.json\")\n",
    "all_neg_tweets = twitter_samples.strings(\"negative_tweets.json\")"
   ]
  },
  {
   "cell_type": "code",
   "execution_count": 4,
   "metadata": {},
   "outputs": [
    {
     "name": "stdout",
     "output_type": "stream",
     "text": [
      "#FollowFriday @France_Inte @PKuchly57 @Milipol_Paris for being top engaged members in my community this week :) \n",
      " hopeless for tmr :(\n"
     ]
    }
   ],
   "source": [
    "#len(all_pos_tweets),len(all_pos_tweets)\n",
    "print(all_pos_tweets[0],'\\n',all_neg_tweets[0])"
   ]
  },
  {
   "cell_type": "markdown",
   "metadata": {},
   "source": [
    "#### train-test-split"
   ]
  },
  {
   "cell_type": "code",
   "execution_count": 5,
   "metadata": {},
   "outputs": [],
   "source": [
    "X = np.hstack((np.array(all_pos_tweets),np.array(all_pos_tweets)))\n",
    "y = np.hstack((np.zeros(len(all_pos_tweets)),np.ones(len(all_neg_tweets))))"
   ]
  },
  {
   "cell_type": "code",
   "execution_count": 6,
   "metadata": {},
   "outputs": [],
   "source": [
    "import sklearn\n",
    "X_train, X_test, y_train, y_test = sklearn.model_selection.train_test_split(X, y, test_size=0.2, random_state=42)"
   ]
  },
  {
   "cell_type": "markdown",
   "metadata": {},
   "source": [
    "#### Preprocessing word"
   ]
  },
  {
   "cell_type": "code",
   "execution_count": 7,
   "metadata": {},
   "outputs": [],
   "source": [
    "from nltk.corpus import stopwords\n",
    "from nltk.stem import PorterStemmer\n",
    "from nltk.tokenize import TweetTokenizer\n",
    "import re\n",
    "import string\n",
    "\n",
    "def process_tweet(tweet):\n",
    "    \n",
    "    stopwords_ = stopwords.words('english')\n",
    "    # remove stock market ticker\n",
    "    tweet = re.sub(r'\\$\\w*','',tweet)\n",
    "    # remove RT\n",
    "    tweet = re.sub(r'^RT[\\s]+','',tweet)\n",
    "    # remove hyperlink\n",
    "    tweet = re.sub(r'https?:\\/\\/.*[\\r\\n]*', '', tweet)\n",
    "    # remove hashtag\n",
    "    tweet = re.sub(r'#', '', tweet)\n",
    "    \n",
    "    tokenizer = TweetTokenizer(preserve_case = False, strip_handles = True, reduce_len = True)\n",
    "    tweet_tokens = tokenizer.tokenize(tweet)\n",
    "    tweets_clean = []\n",
    "    \n",
    "    for word in tweet_tokens:\n",
    "        if word not in stopwords_ and word not in string.punctuation:\n",
    "            stem_word = PorterStemmer().stem(word)\n",
    "            tweets_clean.append(stem_word)\n",
    "    return tweets_clean"
   ]
  },
  {
   "cell_type": "code",
   "execution_count": 8,
   "metadata": {},
   "outputs": [],
   "source": [
    "# tweets = X_train.tolist()\n",
    "# print(tweets[0])\n",
    "# process_tweet(tweets[0])"
   ]
  },
  {
   "cell_type": "code",
   "execution_count": 9,
   "metadata": {},
   "outputs": [],
   "source": [
    "def word_freqs(tweets,class_):\n",
    "    freq_dict = {}\n",
    "    tweets = tweets.tolist()\n",
    "    class_ = class_.tolist()\n",
    "    for tweet,c in zip(tweets,class_):\n",
    "        for word in process_tweet(tweet):\n",
    "            if (word,c) not in freq_dict:\n",
    "                freq_dict[(word,c)] = 1\n",
    "            else:\n",
    "                freq_dict[(word,c)] += 1\n",
    "    return freq_dict"
   ]
  },
  {
   "cell_type": "code",
   "execution_count": 10,
   "metadata": {},
   "outputs": [
    {
     "data": {
      "text/html": [
       "<div>\n",
       "<style scoped>\n",
       "    .dataframe tbody tr th:only-of-type {\n",
       "        vertical-align: middle;\n",
       "    }\n",
       "\n",
       "    .dataframe tbody tr th {\n",
       "        vertical-align: top;\n",
       "    }\n",
       "\n",
       "    .dataframe thead th {\n",
       "        text-align: right;\n",
       "    }\n",
       "</style>\n",
       "<table border=\"1\" class=\"dataframe\">\n",
       "  <thead>\n",
       "    <tr style=\"text-align: right;\">\n",
       "      <th></th>\n",
       "      <th>Pairs</th>\n",
       "      <th>Frequence</th>\n",
       "    </tr>\n",
       "  </thead>\n",
       "  <tbody>\n",
       "    <tr>\n",
       "      <th>0</th>\n",
       "      <td>(friday, 1.0)</td>\n",
       "      <td>91</td>\n",
       "    </tr>\n",
       "    <tr>\n",
       "      <th>1</th>\n",
       "      <td>(:), 1.0)</td>\n",
       "      <td>2891</td>\n",
       "    </tr>\n",
       "    <tr>\n",
       "      <th>2</th>\n",
       "      <td>(good, 0.0)</td>\n",
       "      <td>195</td>\n",
       "    </tr>\n",
       "    <tr>\n",
       "      <th>3</th>\n",
       "      <td>(thank, 0.0)</td>\n",
       "      <td>464</td>\n",
       "    </tr>\n",
       "    <tr>\n",
       "      <th>4</th>\n",
       "      <td>(anyway, 0.0)</td>\n",
       "      <td>13</td>\n",
       "    </tr>\n",
       "  </tbody>\n",
       "</table>\n",
       "</div>"
      ],
      "text/plain": [
       "           Pairs  Frequence\n",
       "0  (friday, 1.0)         91\n",
       "1      (:), 1.0)       2891\n",
       "2    (good, 0.0)        195\n",
       "3   (thank, 0.0)        464\n",
       "4  (anyway, 0.0)         13"
      ]
     },
     "execution_count": 10,
     "metadata": {},
     "output_type": "execute_result"
    }
   ],
   "source": [
    "freqs = word_freqs(X_train,y_train)\n",
    "freq_dict = pd.DataFrame({'Pairs': list(freqs.keys()), 'Frequence': list(freqs.values())})\n",
    "freq_dict.head()"
   ]
  },
  {
   "cell_type": "markdown",
   "metadata": {},
   "source": [
    "#### Create the freq table like the lecture note"
   ]
  },
  {
   "cell_type": "code",
   "execution_count": 11,
   "metadata": {},
   "outputs": [
    {
     "data": {
      "text/html": [
       "<div>\n",
       "<style scoped>\n",
       "    .dataframe tbody tr th:only-of-type {\n",
       "        vertical-align: middle;\n",
       "    }\n",
       "\n",
       "    .dataframe tbody tr th {\n",
       "        vertical-align: top;\n",
       "    }\n",
       "\n",
       "    .dataframe thead th {\n",
       "        text-align: right;\n",
       "    }\n",
       "</style>\n",
       "<table border=\"1\" class=\"dataframe\">\n",
       "  <thead>\n",
       "    <tr style=\"text-align: right;\">\n",
       "      <th></th>\n",
       "      <th>Pairs</th>\n",
       "      <th>Frequence</th>\n",
       "      <th>Vocabulary</th>\n",
       "    </tr>\n",
       "  </thead>\n",
       "  <tbody>\n",
       "    <tr>\n",
       "      <th>0</th>\n",
       "      <td>(friday, 1.0)</td>\n",
       "      <td>91</td>\n",
       "      <td>friday</td>\n",
       "    </tr>\n",
       "    <tr>\n",
       "      <th>1</th>\n",
       "      <td>(:), 1.0)</td>\n",
       "      <td>2891</td>\n",
       "      <td>:)</td>\n",
       "    </tr>\n",
       "    <tr>\n",
       "      <th>2</th>\n",
       "      <td>(good, 0.0)</td>\n",
       "      <td>195</td>\n",
       "      <td>good</td>\n",
       "    </tr>\n",
       "    <tr>\n",
       "      <th>3</th>\n",
       "      <td>(thank, 0.0)</td>\n",
       "      <td>464</td>\n",
       "      <td>thank</td>\n",
       "    </tr>\n",
       "    <tr>\n",
       "      <th>4</th>\n",
       "      <td>(anyway, 0.0)</td>\n",
       "      <td>13</td>\n",
       "      <td>anyway</td>\n",
       "    </tr>\n",
       "    <tr>\n",
       "      <th>...</th>\n",
       "      <td>...</td>\n",
       "      <td>...</td>\n",
       "      <td>...</td>\n",
       "    </tr>\n",
       "    <tr>\n",
       "      <th>11518</th>\n",
       "      <td>(unreal, 1.0)</td>\n",
       "      <td>1</td>\n",
       "      <td>unreal</td>\n",
       "    </tr>\n",
       "    <tr>\n",
       "      <th>11519</th>\n",
       "      <td>(zain, 1.0)</td>\n",
       "      <td>1</td>\n",
       "      <td>zain</td>\n",
       "    </tr>\n",
       "    <tr>\n",
       "      <th>11520</th>\n",
       "      <td>(zac, 1.0)</td>\n",
       "      <td>1</td>\n",
       "      <td>zac</td>\n",
       "    </tr>\n",
       "    <tr>\n",
       "      <th>11521</th>\n",
       "      <td>(isaac, 1.0)</td>\n",
       "      <td>1</td>\n",
       "      <td>isaac</td>\n",
       "    </tr>\n",
       "    <tr>\n",
       "      <th>11522</th>\n",
       "      <td>(oss, 1.0)</td>\n",
       "      <td>1</td>\n",
       "      <td>oss</td>\n",
       "    </tr>\n",
       "  </tbody>\n",
       "</table>\n",
       "<p>11523 rows × 3 columns</p>\n",
       "</div>"
      ],
      "text/plain": [
       "               Pairs  Frequence Vocabulary\n",
       "0      (friday, 1.0)         91     friday\n",
       "1          (:), 1.0)       2891         :)\n",
       "2        (good, 0.0)        195       good\n",
       "3       (thank, 0.0)        464      thank\n",
       "4      (anyway, 0.0)         13     anyway\n",
       "...              ...        ...        ...\n",
       "11518  (unreal, 1.0)          1     unreal\n",
       "11519    (zain, 1.0)          1       zain\n",
       "11520     (zac, 1.0)          1        zac\n",
       "11521   (isaac, 1.0)          1      isaac\n",
       "11522     (oss, 1.0)          1        oss\n",
       "\n",
       "[11523 rows x 3 columns]"
      ]
     },
     "execution_count": 11,
     "metadata": {},
     "output_type": "execute_result"
    }
   ],
   "source": [
    "word_freq = freq_dict.copy()\n",
    "word_freq[\"Vocabulary\"] = word_freq[\"Pairs\"].apply(lambda x : x[0])\n",
    "word_freq"
   ]
  },
  {
   "cell_type": "code",
   "execution_count": 12,
   "metadata": {},
   "outputs": [],
   "source": [
    "\n",
    "key_words = list(set(list(word_freq.Vocabulary.values)))\n",
    "freq_dict_info = pd.DataFrame(columns = [\"Vocabulary\",\"PosFreq(1)\",\"NegFreq(1)\"])\n",
    "\n",
    "for w in key_words:\n",
    "    pos_freq = freqs.get((w,1.0),0)\n",
    "    neg_freq = freqs.get((w,0.0),0)\n",
    "    freq_dict_info = freq_dict_info.append({\"Vocabulary\": w, \"PosFreq(1)\" : pos_freq,\"NegFreq(1)\":neg_freq},ignore_index=True)"
   ]
  },
  {
   "cell_type": "code",
   "execution_count": 13,
   "metadata": {},
   "outputs": [
    {
     "data": {
      "text/html": [
       "<div>\n",
       "<style scoped>\n",
       "    .dataframe tbody tr th:only-of-type {\n",
       "        vertical-align: middle;\n",
       "    }\n",
       "\n",
       "    .dataframe tbody tr th {\n",
       "        vertical-align: top;\n",
       "    }\n",
       "\n",
       "    .dataframe thead th {\n",
       "        text-align: right;\n",
       "    }\n",
       "</style>\n",
       "<table border=\"1\" class=\"dataframe\">\n",
       "  <thead>\n",
       "    <tr style=\"text-align: right;\">\n",
       "      <th></th>\n",
       "      <th>Vocabulary</th>\n",
       "      <th>PosFreq(1)</th>\n",
       "      <th>NegFreq(1)</th>\n",
       "    </tr>\n",
       "  </thead>\n",
       "  <tbody>\n",
       "    <tr>\n",
       "      <th>3934</th>\n",
       "      <td>(-:</td>\n",
       "      <td>2</td>\n",
       "      <td>2</td>\n",
       "    </tr>\n",
       "    <tr>\n",
       "      <th>2126</th>\n",
       "      <td>(:</td>\n",
       "      <td>0</td>\n",
       "      <td>1</td>\n",
       "    </tr>\n",
       "    <tr>\n",
       "      <th>945</th>\n",
       "      <td>):</td>\n",
       "      <td>5</td>\n",
       "      <td>5</td>\n",
       "    </tr>\n",
       "    <tr>\n",
       "      <th>3474</th>\n",
       "      <td>---&gt;</td>\n",
       "      <td>1</td>\n",
       "      <td>0</td>\n",
       "    </tr>\n",
       "    <tr>\n",
       "      <th>5222</th>\n",
       "      <td>--&gt;</td>\n",
       "      <td>2</td>\n",
       "      <td>2</td>\n",
       "    </tr>\n",
       "    <tr>\n",
       "      <th>...</th>\n",
       "      <td>...</td>\n",
       "      <td>...</td>\n",
       "      <td>...</td>\n",
       "    </tr>\n",
       "    <tr>\n",
       "      <th>3569</th>\n",
       "      <td>🚂</td>\n",
       "      <td>0</td>\n",
       "      <td>1</td>\n",
       "    </tr>\n",
       "    <tr>\n",
       "      <th>544</th>\n",
       "      <td>🚮</td>\n",
       "      <td>1</td>\n",
       "      <td>1</td>\n",
       "    </tr>\n",
       "    <tr>\n",
       "      <th>3605</th>\n",
       "      <td>🚲</td>\n",
       "      <td>2</td>\n",
       "      <td>2</td>\n",
       "    </tr>\n",
       "    <tr>\n",
       "      <th>644</th>\n",
       "      <td>󾌴</td>\n",
       "      <td>1</td>\n",
       "      <td>0</td>\n",
       "    </tr>\n",
       "    <tr>\n",
       "      <th>4298</th>\n",
       "      <td>󾰀</td>\n",
       "      <td>1</td>\n",
       "      <td>1</td>\n",
       "    </tr>\n",
       "  </tbody>\n",
       "</table>\n",
       "<p>6433 rows × 3 columns</p>\n",
       "</div>"
      ],
      "text/plain": [
       "     Vocabulary PosFreq(1) NegFreq(1)\n",
       "3934        (-:          2          2\n",
       "2126         (:          0          1\n",
       "945          ):          5          5\n",
       "3474       --->          1          0\n",
       "5222        -->          2          2\n",
       "...         ...        ...        ...\n",
       "3569          🚂          0          1\n",
       "544           🚮          1          1\n",
       "3605          🚲          2          2\n",
       "644           󾌴          1          0\n",
       "4298          󾰀          1          1\n",
       "\n",
       "[6433 rows x 3 columns]"
      ]
     },
     "execution_count": 13,
     "metadata": {},
     "output_type": "execute_result"
    }
   ],
   "source": [
    "freq_dict_info = freq_dict_info.sort_values(['Vocabulary'])\n",
    "freq_dict_info"
   ]
  },
  {
   "cell_type": "code",
   "execution_count": 14,
   "metadata": {},
   "outputs": [],
   "source": [
    "def extract_features(processed_tweet):\n",
    "    pos_freq = freq_dict_info.loc[freq_dict_info.Vocabulary.isin(processed_tweet)].sum().values[1]\n",
    "    neg_freq = freq_dict_info.loc[freq_dict_info.Vocabulary.isin(processed_tweet)].sum().values[2]\n",
    "    return [1,pos_freq,neg_freq]"
   ]
  },
  {
   "cell_type": "code",
   "execution_count": 15,
   "metadata": {},
   "outputs": [
    {
     "data": {
      "text/html": [
       "<div>\n",
       "<style scoped>\n",
       "    .dataframe tbody tr th:only-of-type {\n",
       "        vertical-align: middle;\n",
       "    }\n",
       "\n",
       "    .dataframe tbody tr th {\n",
       "        vertical-align: top;\n",
       "    }\n",
       "\n",
       "    .dataframe thead th {\n",
       "        text-align: right;\n",
       "    }\n",
       "</style>\n",
       "<table border=\"1\" class=\"dataframe\">\n",
       "  <thead>\n",
       "    <tr style=\"text-align: right;\">\n",
       "      <th></th>\n",
       "      <th>Tweet</th>\n",
       "      <th>Processed_tweet</th>\n",
       "      <th>Features</th>\n",
       "    </tr>\n",
       "  </thead>\n",
       "  <tbody>\n",
       "    <tr>\n",
       "      <th>0</th>\n",
       "      <td>Friday!:) http://t.co/HUoq4txhmb</td>\n",
       "      <td>[friday, :)]</td>\n",
       "      <td>[1, 2982, 2945]</td>\n",
       "    </tr>\n",
       "    <tr>\n",
       "      <th>1</th>\n",
       "      <td>@Lachdog_AU @Posica all good, thanks anyway :)</td>\n",
       "      <td>[good, thank, anyway, :)]</td>\n",
       "      <td>[1, 3605, 3523]</td>\n",
       "    </tr>\n",
       "    <tr>\n",
       "      <th>2</th>\n",
       "      <td>my bf is mean :)</td>\n",
       "      <td>[bf, mean, :)]</td>\n",
       "      <td>[1, 2910, 2874]</td>\n",
       "    </tr>\n",
       "    <tr>\n",
       "      <th>3</th>\n",
       "      <td>@bwoyblunder @rajudasonline Sorted :). Thanks....</td>\n",
       "      <td>[sort, :), thank, daaru, parti, chaddi, bro]</td>\n",
       "      <td>[1, 3429, 3345]</td>\n",
       "    </tr>\n",
       "    <tr>\n",
       "      <th>4</th>\n",
       "      <td>@narrhallamarsch Good Flight! :)</td>\n",
       "      <td>[good, flight, :)]</td>\n",
       "      <td>[1, 3088, 3048]</td>\n",
       "    </tr>\n",
       "    <tr>\n",
       "      <th>...</th>\n",
       "      <td>...</td>\n",
       "      <td>...</td>\n",
       "      <td>...</td>\n",
       "    </tr>\n",
       "    <tr>\n",
       "      <th>7995</th>\n",
       "      <td>@ChaSilveo  follow @jnlazts &amp;amp; http://t.co/...</td>\n",
       "      <td>[follow]</td>\n",
       "      <td>[1, 304, 300]</td>\n",
       "    </tr>\n",
       "    <tr>\n",
       "      <th>7996</th>\n",
       "      <td>Hi BAM ! @BarsAndMelody \\nCan you follow my be...</td>\n",
       "      <td>[hi, bam, follow, bestfriend, love, lot, :), s...</td>\n",
       "      <td>[1, 4050, 4080]</td>\n",
       "    </tr>\n",
       "    <tr>\n",
       "      <th>7997</th>\n",
       "      <td>@hostclubhowell no prob!:)</td>\n",
       "      <td>[prob, :)]</td>\n",
       "      <td>[1, 2893, 2856]</td>\n",
       "    </tr>\n",
       "    <tr>\n",
       "      <th>7998</th>\n",
       "      <td>@jeremygutsche we like this amazing donut reci...</td>\n",
       "      <td>[like, amaz, donut, recip, share, foiegra, lov...</td>\n",
       "      <td>[1, 3176, 3112]</td>\n",
       "    </tr>\n",
       "    <tr>\n",
       "      <th>7999</th>\n",
       "      <td>Unreal training boys!\\nAwesome work Zaine, Zac...</td>\n",
       "      <td>[unreal, train, boy, awesom, work, zain, zac, ...</td>\n",
       "      <td>[1, 3052, 2990]</td>\n",
       "    </tr>\n",
       "  </tbody>\n",
       "</table>\n",
       "<p>8000 rows × 3 columns</p>\n",
       "</div>"
      ],
      "text/plain": [
       "                                                  Tweet  \\\n",
       "0                      Friday!:) http://t.co/HUoq4txhmb   \n",
       "1        @Lachdog_AU @Posica all good, thanks anyway :)   \n",
       "2                                      my bf is mean :)   \n",
       "3     @bwoyblunder @rajudasonline Sorted :). Thanks....   \n",
       "4                      @narrhallamarsch Good Flight! :)   \n",
       "...                                                 ...   \n",
       "7995  @ChaSilveo  follow @jnlazts &amp; http://t.co/...   \n",
       "7996  Hi BAM ! @BarsAndMelody \\nCan you follow my be...   \n",
       "7997                         @hostclubhowell no prob!:)   \n",
       "7998  @jeremygutsche we like this amazing donut reci...   \n",
       "7999  Unreal training boys!\\nAwesome work Zaine, Zac...   \n",
       "\n",
       "                                        Processed_tweet         Features  \n",
       "0                                          [friday, :)]  [1, 2982, 2945]  \n",
       "1                             [good, thank, anyway, :)]  [1, 3605, 3523]  \n",
       "2                                        [bf, mean, :)]  [1, 2910, 2874]  \n",
       "3          [sort, :), thank, daaru, parti, chaddi, bro]  [1, 3429, 3345]  \n",
       "4                                    [good, flight, :)]  [1, 3088, 3048]  \n",
       "...                                                 ...              ...  \n",
       "7995                                           [follow]    [1, 304, 300]  \n",
       "7996  [hi, bam, follow, bestfriend, love, lot, :), s...  [1, 4050, 4080]  \n",
       "7997                                         [prob, :)]  [1, 2893, 2856]  \n",
       "7998  [like, amaz, donut, recip, share, foiegra, lov...  [1, 3176, 3112]  \n",
       "7999  [unreal, train, boy, awesom, work, zain, zac, ...  [1, 3052, 2990]  \n",
       "\n",
       "[8000 rows x 3 columns]"
      ]
     },
     "execution_count": 15,
     "metadata": {},
     "output_type": "execute_result"
    }
   ],
   "source": [
    "train_df = pd.DataFrame(X_train,columns = [\"Tweet\"])\n",
    "train_df[\"Processed_tweet\"] = train_df.Tweet.apply(process_tweet)\n",
    "train_df[\"Features\"] = train_df.Processed_tweet.apply(extract_features)\n",
    "train_df"
   ]
  },
  {
   "cell_type": "code",
   "execution_count": 16,
   "metadata": {},
   "outputs": [
    {
     "data": {
      "text/html": [
       "<div>\n",
       "<style scoped>\n",
       "    .dataframe tbody tr th:only-of-type {\n",
       "        vertical-align: middle;\n",
       "    }\n",
       "\n",
       "    .dataframe tbody tr th {\n",
       "        vertical-align: top;\n",
       "    }\n",
       "\n",
       "    .dataframe thead th {\n",
       "        text-align: right;\n",
       "    }\n",
       "</style>\n",
       "<table border=\"1\" class=\"dataframe\">\n",
       "  <thead>\n",
       "    <tr style=\"text-align: right;\">\n",
       "      <th></th>\n",
       "      <th>Tweet</th>\n",
       "      <th>Processed_tweet</th>\n",
       "      <th>Features</th>\n",
       "    </tr>\n",
       "  </thead>\n",
       "  <tbody>\n",
       "    <tr>\n",
       "      <th>0</th>\n",
       "      <td>@Malan_Sanjaya yes switched back :) my lap is ...</td>\n",
       "      <td>[ye, switch, back, :), lap, optim, window, 7, ...</td>\n",
       "      <td>[1, 3041, 3005]</td>\n",
       "    </tr>\n",
       "    <tr>\n",
       "      <th>1</th>\n",
       "      <td>@mayusushita @dildeewana_ @sonalp2591 @deepti_...</td>\n",
       "      <td>[thank, guy, :)]</td>\n",
       "      <td>[1, 3441, 3357]</td>\n",
       "    </tr>\n",
       "    <tr>\n",
       "      <th>2</th>\n",
       "      <td>Your love, O Lord, is better than life. :) &amp;lt...</td>\n",
       "      <td>[love, lord, better, life, :), &lt;3]</td>\n",
       "      <td>[1, 3390, 3372]</td>\n",
       "    </tr>\n",
       "    <tr>\n",
       "      <th>3</th>\n",
       "      <td>@yasminyasir96 yeah but it will be better if w...</td>\n",
       "      <td>[yeah, better, use, offici, account, :), like,...</td>\n",
       "      <td>[1, 3274, 3197]</td>\n",
       "    </tr>\n",
       "    <tr>\n",
       "      <th>4</th>\n",
       "      <td>Ok good night I wish troye wasn't ugly and I m...</td>\n",
       "      <td>[ok, good, night, wish, troy, ugli, met, today...</td>\n",
       "      <td>[1, 3504, 3473]</td>\n",
       "    </tr>\n",
       "    <tr>\n",
       "      <th>...</th>\n",
       "      <td>...</td>\n",
       "      <td>...</td>\n",
       "      <td>...</td>\n",
       "    </tr>\n",
       "    <tr>\n",
       "      <th>1995</th>\n",
       "      <td>Agree?? :)  #Phone #WiFi #LifeStyle \\n\\n#Qatar...</td>\n",
       "      <td>[agre, :), phone, wifi, lifestyl, qatarday]</td>\n",
       "      <td>[1, 2916, 2882]</td>\n",
       "    </tr>\n",
       "    <tr>\n",
       "      <th>1996</th>\n",
       "      <td>@Rl191459Alex Hey and thank you for following :)</td>\n",
       "      <td>[hey, thank, follow, :)]</td>\n",
       "      <td>[1, 3761, 3674]</td>\n",
       "    </tr>\n",
       "    <tr>\n",
       "      <th>1997</th>\n",
       "      <td>See yah on Sunday @carmenkvarnen! :) https://t...</td>\n",
       "      <td>[see, yah, sunday, :)]</td>\n",
       "      <td>[1, 3041, 3010]</td>\n",
       "    </tr>\n",
       "    <tr>\n",
       "      <th>1998</th>\n",
       "      <td>@JSHUGI we must!!! Hahaha :p</td>\n",
       "      <td>[must, hahaha, :p]</td>\n",
       "      <td>[1, 127, 136]</td>\n",
       "    </tr>\n",
       "    <tr>\n",
       "      <th>1999</th>\n",
       "      <td>@LondonLycra can I see legs in lycra :p</td>\n",
       "      <td>[see, leg, lycra, :p]</td>\n",
       "      <td>[1, 247, 267]</td>\n",
       "    </tr>\n",
       "  </tbody>\n",
       "</table>\n",
       "<p>2000 rows × 3 columns</p>\n",
       "</div>"
      ],
      "text/plain": [
       "                                                  Tweet  \\\n",
       "0     @Malan_Sanjaya yes switched back :) my lap is ...   \n",
       "1     @mayusushita @dildeewana_ @sonalp2591 @deepti_...   \n",
       "2     Your love, O Lord, is better than life. :) &lt...   \n",
       "3     @yasminyasir96 yeah but it will be better if w...   \n",
       "4     Ok good night I wish troye wasn't ugly and I m...   \n",
       "...                                                 ...   \n",
       "1995  Agree?? :)  #Phone #WiFi #LifeStyle \\n\\n#Qatar...   \n",
       "1996   @Rl191459Alex Hey and thank you for following :)   \n",
       "1997  See yah on Sunday @carmenkvarnen! :) https://t...   \n",
       "1998                       @JSHUGI we must!!! Hahaha :p   \n",
       "1999            @LondonLycra can I see legs in lycra :p   \n",
       "\n",
       "                                        Processed_tweet         Features  \n",
       "0     [ye, switch, back, :), lap, optim, window, 7, ...  [1, 3041, 3005]  \n",
       "1                                      [thank, guy, :)]  [1, 3441, 3357]  \n",
       "2                    [love, lord, better, life, :), <3]  [1, 3390, 3372]  \n",
       "3     [yeah, better, use, offici, account, :), like,...  [1, 3274, 3197]  \n",
       "4     [ok, good, night, wish, troy, ugli, met, today...  [1, 3504, 3473]  \n",
       "...                                                 ...              ...  \n",
       "1995        [agre, :), phone, wifi, lifestyl, qatarday]  [1, 2916, 2882]  \n",
       "1996                           [hey, thank, follow, :)]  [1, 3761, 3674]  \n",
       "1997                             [see, yah, sunday, :)]  [1, 3041, 3010]  \n",
       "1998                                 [must, hahaha, :p]    [1, 127, 136]  \n",
       "1999                              [see, leg, lycra, :p]    [1, 247, 267]  \n",
       "\n",
       "[2000 rows x 3 columns]"
      ]
     },
     "execution_count": 16,
     "metadata": {},
     "output_type": "execute_result"
    }
   ],
   "source": [
    "test_df = pd.DataFrame(X_test,columns = [\"Tweet\"])\n",
    "test_df[\"Processed_tweet\"] = test_df.Tweet.apply(process_tweet)\n",
    "test_df[\"Features\"] = test_df.Processed_tweet.apply(extract_features)\n",
    "test_df"
   ]
  },
  {
   "cell_type": "markdown",
   "metadata": {},
   "source": [
    "#### Train the model"
   ]
  },
  {
   "cell_type": "code",
   "execution_count": 17,
   "metadata": {},
   "outputs": [],
   "source": [
    "x_feat_train = np.stack(train_df[\"Features\"].values)\n",
    "x_feat_test = np.stack(test_df[\"Features\"].values)"
   ]
  },
  {
   "cell_type": "code",
   "execution_count": 18,
   "metadata": {},
   "outputs": [
    {
     "data": {
      "text/plain": [
       "0.531125"
      ]
     },
     "execution_count": 18,
     "metadata": {},
     "output_type": "execute_result"
    }
   ],
   "source": [
    "from sklearn.linear_model import LogisticRegression\n",
    "clf = LogisticRegression().fit(x_feat_train,y_train)\n",
    "clf.score(x_feat_train,y_train)"
   ]
  },
  {
   "cell_type": "code",
   "execution_count": 19,
   "metadata": {},
   "outputs": [
    {
     "data": {
      "text/plain": [
       "array([[-2.53252524e-06,  5.33830815e-03, -5.40788661e-03]])"
      ]
     },
     "execution_count": 19,
     "metadata": {},
     "output_type": "execute_result"
    }
   ],
   "source": [
    "clf.coef_"
   ]
  },
  {
   "cell_type": "code",
   "execution_count": 20,
   "metadata": {},
   "outputs": [
    {
     "data": {
      "text/plain": [
       "array([1.000e+00, 3.041e+03, 3.005e+03])"
      ]
     },
     "execution_count": 20,
     "metadata": {},
     "output_type": "execute_result"
    }
   ],
   "source": [
    "x_feat_test[0]"
   ]
  },
  {
   "cell_type": "code",
   "execution_count": 21,
   "metadata": {},
   "outputs": [
    {
     "data": {
      "text/plain": [
       "array([0., 1., 0., ..., 0., 0., 0.])"
      ]
     },
     "execution_count": 21,
     "metadata": {},
     "output_type": "execute_result"
    }
   ],
   "source": [
    "clf.predict(x_feat_test)"
   ]
  },
  {
   "cell_type": "code",
   "execution_count": 22,
   "metadata": {},
   "outputs": [
    {
     "data": {
      "text/html": [
       "<div>\n",
       "<style scoped>\n",
       "    .dataframe tbody tr th:only-of-type {\n",
       "        vertical-align: middle;\n",
       "    }\n",
       "\n",
       "    .dataframe tbody tr th {\n",
       "        vertical-align: top;\n",
       "    }\n",
       "\n",
       "    .dataframe thead th {\n",
       "        text-align: right;\n",
       "    }\n",
       "</style>\n",
       "<table border=\"1\" class=\"dataframe\">\n",
       "  <thead>\n",
       "    <tr style=\"text-align: right;\">\n",
       "      <th></th>\n",
       "      <th>Tweet</th>\n",
       "      <th>Processed_tweet</th>\n",
       "      <th>Features</th>\n",
       "    </tr>\n",
       "  </thead>\n",
       "  <tbody>\n",
       "    <tr>\n",
       "      <th>0</th>\n",
       "      <td>@Malan_Sanjaya yes switched back :) my lap is ...</td>\n",
       "      <td>[ye, switch, back, :), lap, optim, window, 7, ...</td>\n",
       "      <td>[1, 3041, 3005]</td>\n",
       "    </tr>\n",
       "    <tr>\n",
       "      <th>1</th>\n",
       "      <td>@mayusushita @dildeewana_ @sonalp2591 @deepti_...</td>\n",
       "      <td>[thank, guy, :)]</td>\n",
       "      <td>[1, 3441, 3357]</td>\n",
       "    </tr>\n",
       "    <tr>\n",
       "      <th>2</th>\n",
       "      <td>Your love, O Lord, is better than life. :) &amp;lt...</td>\n",
       "      <td>[love, lord, better, life, :), &lt;3]</td>\n",
       "      <td>[1, 3390, 3372]</td>\n",
       "    </tr>\n",
       "    <tr>\n",
       "      <th>3</th>\n",
       "      <td>@yasminyasir96 yeah but it will be better if w...</td>\n",
       "      <td>[yeah, better, use, offici, account, :), like,...</td>\n",
       "      <td>[1, 3274, 3197]</td>\n",
       "    </tr>\n",
       "    <tr>\n",
       "      <th>4</th>\n",
       "      <td>Ok good night I wish troye wasn't ugly and I m...</td>\n",
       "      <td>[ok, good, night, wish, troy, ugli, met, today...</td>\n",
       "      <td>[1, 3504, 3473]</td>\n",
       "    </tr>\n",
       "  </tbody>\n",
       "</table>\n",
       "</div>"
      ],
      "text/plain": [
       "                                               Tweet  \\\n",
       "0  @Malan_Sanjaya yes switched back :) my lap is ...   \n",
       "1  @mayusushita @dildeewana_ @sonalp2591 @deepti_...   \n",
       "2  Your love, O Lord, is better than life. :) &lt...   \n",
       "3  @yasminyasir96 yeah but it will be better if w...   \n",
       "4  Ok good night I wish troye wasn't ugly and I m...   \n",
       "\n",
       "                                     Processed_tweet         Features  \n",
       "0  [ye, switch, back, :), lap, optim, window, 7, ...  [1, 3041, 3005]  \n",
       "1                                   [thank, guy, :)]  [1, 3441, 3357]  \n",
       "2                 [love, lord, better, life, :), <3]  [1, 3390, 3372]  \n",
       "3  [yeah, better, use, offici, account, :), like,...  [1, 3274, 3197]  \n",
       "4  [ok, good, night, wish, troy, ugli, met, today...  [1, 3504, 3473]  "
      ]
     },
     "execution_count": 22,
     "metadata": {},
     "output_type": "execute_result"
    }
   ],
   "source": [
    "test_df.head()"
   ]
  },
  {
   "cell_type": "code",
   "execution_count": 23,
   "metadata": {},
   "outputs": [
    {
     "data": {
      "text/plain": [
       "0    [ye, switch, back, :), lap, optim, window, 7, ...\n",
       "1                                     [thank, guy, :)]\n",
       "2                   [love, lord, better, life, :), <3]\n",
       "3    [yeah, better, use, offici, account, :), like,...\n",
       "4    [ok, good, night, wish, troy, ugli, met, today...\n",
       "Name: Processed_tweet, dtype: object"
      ]
     },
     "execution_count": 23,
     "metadata": {},
     "output_type": "execute_result"
    }
   ],
   "source": [
    "test_df[\"Processed_tweet\"].iloc[:5]"
   ]
  },
  {
   "cell_type": "code",
   "execution_count": 24,
   "metadata": {},
   "outputs": [
    {
     "data": {
      "text/plain": [
       "array([0., 1., 0., 1., 0.])"
      ]
     },
     "execution_count": 24,
     "metadata": {},
     "output_type": "execute_result"
    }
   ],
   "source": [
    "clf.predict(x_feat_test[0:5])"
   ]
  },
  {
   "cell_type": "code",
   "execution_count": 25,
   "metadata": {},
   "outputs": [
    {
     "data": {
      "text/plain": [
       "array([1., 0., 0., 0., 0.])"
      ]
     },
     "execution_count": 25,
     "metadata": {},
     "output_type": "execute_result"
    }
   ],
   "source": [
    "y_test[0:5]"
   ]
  },
  {
   "cell_type": "code",
   "execution_count": 26,
   "metadata": {},
   "outputs": [
    {
     "data": {
      "text/html": [
       "<div>\n",
       "<style scoped>\n",
       "    .dataframe tbody tr th:only-of-type {\n",
       "        vertical-align: middle;\n",
       "    }\n",
       "\n",
       "    .dataframe tbody tr th {\n",
       "        vertical-align: top;\n",
       "    }\n",
       "\n",
       "    .dataframe thead th {\n",
       "        text-align: right;\n",
       "    }\n",
       "</style>\n",
       "<table border=\"1\" class=\"dataframe\">\n",
       "  <thead>\n",
       "    <tr style=\"text-align: right;\">\n",
       "      <th></th>\n",
       "      <th>fit_time</th>\n",
       "      <th>score_time</th>\n",
       "      <th>test_score</th>\n",
       "      <th>train_score</th>\n",
       "    </tr>\n",
       "  </thead>\n",
       "  <tbody>\n",
       "    <tr>\n",
       "      <th>0</th>\n",
       "      <td>0.012290</td>\n",
       "      <td>0.000567</td>\n",
       "      <td>0.528125</td>\n",
       "      <td>0.532344</td>\n",
       "    </tr>\n",
       "    <tr>\n",
       "      <th>1</th>\n",
       "      <td>0.015079</td>\n",
       "      <td>0.000636</td>\n",
       "      <td>0.548750</td>\n",
       "      <td>0.527031</td>\n",
       "    </tr>\n",
       "    <tr>\n",
       "      <th>2</th>\n",
       "      <td>0.056194</td>\n",
       "      <td>0.000835</td>\n",
       "      <td>0.530000</td>\n",
       "      <td>0.534062</td>\n",
       "    </tr>\n",
       "    <tr>\n",
       "      <th>3</th>\n",
       "      <td>0.020995</td>\n",
       "      <td>0.000436</td>\n",
       "      <td>0.517500</td>\n",
       "      <td>0.532813</td>\n",
       "    </tr>\n",
       "    <tr>\n",
       "      <th>4</th>\n",
       "      <td>0.010293</td>\n",
       "      <td>0.000426</td>\n",
       "      <td>0.518750</td>\n",
       "      <td>0.533594</td>\n",
       "    </tr>\n",
       "  </tbody>\n",
       "</table>\n",
       "</div>"
      ],
      "text/plain": [
       "   fit_time  score_time  test_score  train_score\n",
       "0  0.012290    0.000567    0.528125     0.532344\n",
       "1  0.015079    0.000636    0.548750     0.527031\n",
       "2  0.056194    0.000835    0.530000     0.534062\n",
       "3  0.020995    0.000436    0.517500     0.532813\n",
       "4  0.010293    0.000426    0.518750     0.533594"
      ]
     },
     "execution_count": 26,
     "metadata": {},
     "output_type": "execute_result"
    }
   ],
   "source": [
    "from sklearn.model_selection import cross_validate\n",
    "scores = cross_validate(clf,x_feat_train,y_train,return_train_score = True)\n",
    "pd.DataFrame(scores)"
   ]
  },
  {
   "cell_type": "code",
   "execution_count": null,
   "metadata": {},
   "outputs": [],
   "source": []
  }
 ],
 "metadata": {
  "kernelspec": {
   "display_name": "Python [conda env:575]",
   "language": "python",
   "name": "conda-env-575-py"
  },
  "language_info": {
   "codemirror_mode": {
    "name": "ipython",
    "version": 3
   },
   "file_extension": ".py",
   "mimetype": "text/x-python",
   "name": "python",
   "nbconvert_exporter": "python",
   "pygments_lexer": "ipython3",
   "version": "3.8.8"
  }
 },
 "nbformat": 4,
 "nbformat_minor": 4
}
