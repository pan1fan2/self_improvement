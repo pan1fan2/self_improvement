{
 "cells": [
  {
   "cell_type": "markdown",
   "metadata": {},
   "source": [
    "# Stock Prediction and Forecast Using Stacked LSTM"
   ]
  },
  {
   "cell_type": "code",
   "execution_count": 1,
   "metadata": {},
   "outputs": [],
   "source": [
    "import pandas as pd\n",
    "df = pd.read_csv(\"https://raw.githubusercontent.com/krishnaik06/Stock-MArket-Forecasting/master/AAPL.csv\",index_col=0)"
   ]
  },
  {
   "cell_type": "code",
   "execution_count": 2,
   "metadata": {},
   "outputs": [
    {
     "data": {
      "text/html": [
       "<div>\n",
       "<style scoped>\n",
       "    .dataframe tbody tr th:only-of-type {\n",
       "        vertical-align: middle;\n",
       "    }\n",
       "\n",
       "    .dataframe tbody tr th {\n",
       "        vertical-align: top;\n",
       "    }\n",
       "\n",
       "    .dataframe thead th {\n",
       "        text-align: right;\n",
       "    }\n",
       "</style>\n",
       "<table border=\"1\" class=\"dataframe\">\n",
       "  <thead>\n",
       "    <tr style=\"text-align: right;\">\n",
       "      <th></th>\n",
       "      <th>symbol</th>\n",
       "      <th>date</th>\n",
       "      <th>close</th>\n",
       "      <th>high</th>\n",
       "      <th>low</th>\n",
       "      <th>open</th>\n",
       "      <th>volume</th>\n",
       "      <th>adjClose</th>\n",
       "      <th>adjHigh</th>\n",
       "      <th>adjLow</th>\n",
       "      <th>adjOpen</th>\n",
       "      <th>adjVolume</th>\n",
       "      <th>divCash</th>\n",
       "      <th>splitFactor</th>\n",
       "    </tr>\n",
       "  </thead>\n",
       "  <tbody>\n",
       "    <tr>\n",
       "      <th>0</th>\n",
       "      <td>AAPL</td>\n",
       "      <td>2015-05-27 00:00:00+00:00</td>\n",
       "      <td>132.045</td>\n",
       "      <td>132.260</td>\n",
       "      <td>130.05</td>\n",
       "      <td>130.34</td>\n",
       "      <td>45833246</td>\n",
       "      <td>121.682558</td>\n",
       "      <td>121.880685</td>\n",
       "      <td>119.844118</td>\n",
       "      <td>120.111360</td>\n",
       "      <td>45833246</td>\n",
       "      <td>0.0</td>\n",
       "      <td>1.0</td>\n",
       "    </tr>\n",
       "    <tr>\n",
       "      <th>1</th>\n",
       "      <td>AAPL</td>\n",
       "      <td>2015-05-28 00:00:00+00:00</td>\n",
       "      <td>131.780</td>\n",
       "      <td>131.950</td>\n",
       "      <td>131.10</td>\n",
       "      <td>131.86</td>\n",
       "      <td>30733309</td>\n",
       "      <td>121.438354</td>\n",
       "      <td>121.595013</td>\n",
       "      <td>120.811718</td>\n",
       "      <td>121.512076</td>\n",
       "      <td>30733309</td>\n",
       "      <td>0.0</td>\n",
       "      <td>1.0</td>\n",
       "    </tr>\n",
       "    <tr>\n",
       "      <th>2</th>\n",
       "      <td>AAPL</td>\n",
       "      <td>2015-05-29 00:00:00+00:00</td>\n",
       "      <td>130.280</td>\n",
       "      <td>131.450</td>\n",
       "      <td>129.90</td>\n",
       "      <td>131.23</td>\n",
       "      <td>50884452</td>\n",
       "      <td>120.056069</td>\n",
       "      <td>121.134251</td>\n",
       "      <td>119.705890</td>\n",
       "      <td>120.931516</td>\n",
       "      <td>50884452</td>\n",
       "      <td>0.0</td>\n",
       "      <td>1.0</td>\n",
       "    </tr>\n",
       "    <tr>\n",
       "      <th>3</th>\n",
       "      <td>AAPL</td>\n",
       "      <td>2015-06-01 00:00:00+00:00</td>\n",
       "      <td>130.535</td>\n",
       "      <td>131.390</td>\n",
       "      <td>130.05</td>\n",
       "      <td>131.20</td>\n",
       "      <td>32112797</td>\n",
       "      <td>120.291057</td>\n",
       "      <td>121.078960</td>\n",
       "      <td>119.844118</td>\n",
       "      <td>120.903870</td>\n",
       "      <td>32112797</td>\n",
       "      <td>0.0</td>\n",
       "      <td>1.0</td>\n",
       "    </tr>\n",
       "    <tr>\n",
       "      <th>4</th>\n",
       "      <td>AAPL</td>\n",
       "      <td>2015-06-02 00:00:00+00:00</td>\n",
       "      <td>129.960</td>\n",
       "      <td>130.655</td>\n",
       "      <td>129.32</td>\n",
       "      <td>129.86</td>\n",
       "      <td>33667627</td>\n",
       "      <td>119.761181</td>\n",
       "      <td>120.401640</td>\n",
       "      <td>119.171406</td>\n",
       "      <td>119.669029</td>\n",
       "      <td>33667627</td>\n",
       "      <td>0.0</td>\n",
       "      <td>1.0</td>\n",
       "    </tr>\n",
       "  </tbody>\n",
       "</table>\n",
       "</div>"
      ],
      "text/plain": [
       "  symbol                       date    close     high     low    open  \\\n",
       "0   AAPL  2015-05-27 00:00:00+00:00  132.045  132.260  130.05  130.34   \n",
       "1   AAPL  2015-05-28 00:00:00+00:00  131.780  131.950  131.10  131.86   \n",
       "2   AAPL  2015-05-29 00:00:00+00:00  130.280  131.450  129.90  131.23   \n",
       "3   AAPL  2015-06-01 00:00:00+00:00  130.535  131.390  130.05  131.20   \n",
       "4   AAPL  2015-06-02 00:00:00+00:00  129.960  130.655  129.32  129.86   \n",
       "\n",
       "     volume    adjClose     adjHigh      adjLow     adjOpen  adjVolume  \\\n",
       "0  45833246  121.682558  121.880685  119.844118  120.111360   45833246   \n",
       "1  30733309  121.438354  121.595013  120.811718  121.512076   30733309   \n",
       "2  50884452  120.056069  121.134251  119.705890  120.931516   50884452   \n",
       "3  32112797  120.291057  121.078960  119.844118  120.903870   32112797   \n",
       "4  33667627  119.761181  120.401640  119.171406  119.669029   33667627   \n",
       "\n",
       "   divCash  splitFactor  \n",
       "0      0.0          1.0  \n",
       "1      0.0          1.0  \n",
       "2      0.0          1.0  \n",
       "3      0.0          1.0  \n",
       "4      0.0          1.0  "
      ]
     },
     "execution_count": 2,
     "metadata": {},
     "output_type": "execute_result"
    }
   ],
   "source": [
    "df.head()"
   ]
  },
  {
   "cell_type": "code",
   "execution_count": 3,
   "metadata": {},
   "outputs": [
    {
     "name": "stdout",
     "output_type": "stream",
     "text": [
      "<class 'pandas.core.frame.DataFrame'>\n",
      "Int64Index: 1258 entries, 0 to 1257\n",
      "Data columns (total 14 columns):\n",
      " #   Column       Non-Null Count  Dtype  \n",
      "---  ------       --------------  -----  \n",
      " 0   symbol       1258 non-null   object \n",
      " 1   date         1258 non-null   object \n",
      " 2   close        1258 non-null   float64\n",
      " 3   high         1258 non-null   float64\n",
      " 4   low          1258 non-null   float64\n",
      " 5   open         1258 non-null   float64\n",
      " 6   volume       1258 non-null   int64  \n",
      " 7   adjClose     1258 non-null   float64\n",
      " 8   adjHigh      1258 non-null   float64\n",
      " 9   adjLow       1258 non-null   float64\n",
      " 10  adjOpen      1258 non-null   float64\n",
      " 11  adjVolume    1258 non-null   int64  \n",
      " 12  divCash      1258 non-null   float64\n",
      " 13  splitFactor  1258 non-null   float64\n",
      "dtypes: float64(10), int64(2), object(2)\n",
      "memory usage: 147.4+ KB\n"
     ]
    }
   ],
   "source": [
    "df.info()"
   ]
  },
  {
   "cell_type": "code",
   "execution_count": 4,
   "metadata": {},
   "outputs": [],
   "source": [
    "import matplotlib.pyplot as plt"
   ]
  },
  {
   "cell_type": "code",
   "execution_count": 5,
   "metadata": {},
   "outputs": [],
   "source": [
    "df_plot = df.copy()"
   ]
  },
  {
   "cell_type": "code",
   "execution_count": 6,
   "metadata": {},
   "outputs": [],
   "source": [
    "df_plot['date'] = pd.to_datetime(df_plot['date'])"
   ]
  },
  {
   "cell_type": "code",
   "execution_count": 7,
   "metadata": {},
   "outputs": [
    {
     "data": {
      "image/png": "[encoded data removed]",
      "text/plain": [
       "<Figure size 432x288 with 1 Axes>"
      ]
     },
     "metadata": {
      "needs_background": "light"
     },
     "output_type": "display_data"
    }
   ],
   "source": [
    "plt.plot(df_plot['date'],df_plot['close']);"
   ]
  },
  {
   "cell_type": "code",
   "execution_count": 8,
   "metadata": {},
   "outputs": [
    {
     "data": {
      "text/plain": [
       "array([[0.17607447],\n",
       "       [0.17495567],\n",
       "       [0.16862282],\n",
       "       ...,\n",
       "       [0.96635143],\n",
       "       [0.9563033 ],\n",
       "       [0.96491598]])"
      ]
     },
     "execution_count": 8,
     "metadata": {},
     "output_type": "execute_result"
    }
   ],
   "source": [
    "import numpy as np\n",
    "from sklearn.preprocessing import MinMaxScaler\n",
    "scaler=MinMaxScaler(feature_range=(0,1))\n",
    "df_close=scaler.fit_transform(np.array(df['close']).reshape(-1,1))\n",
    "df_close"
   ]
  },
  {
   "cell_type": "code",
   "execution_count": 9,
   "metadata": {},
   "outputs": [
    {
     "data": {
      "text/plain": [
       "(1258, 1)"
      ]
     },
     "execution_count": 9,
     "metadata": {},
     "output_type": "execute_result"
    }
   ],
   "source": [
    "df_close.shape"
   ]
  },
  {
   "cell_type": "code",
   "execution_count": 10,
   "metadata": {},
   "outputs": [],
   "source": [
    "##splitting dataset into train and test split\n",
    "training_size=int(len(df_close)*0.65)\n",
    "test_size=len(df_close)-training_size\n",
    "train_data,test_data=df_close[0:training_size,:],df_close[training_size:len(df_close),:1]"
   ]
  },
  {
   "cell_type": "code",
   "execution_count": 11,
   "metadata": {},
   "outputs": [
    {
     "data": {
      "text/plain": [
       "array([[0.17607447],\n",
       "       [0.17495567],\n",
       "       [0.16862282],\n",
       "       [0.1696994 ],\n",
       "       [0.16727181],\n",
       "       [0.16794731],\n",
       "       [0.16473866],\n",
       "       [0.16174111],\n",
       "       [0.1581525 ],\n",
       "       [0.15654817]])"
      ]
     },
     "execution_count": 11,
     "metadata": {},
     "output_type": "execute_result"
    }
   ],
   "source": [
    "train_data[0:10]"
   ]
  },
  {
   "cell_type": "code",
   "execution_count": 12,
   "metadata": {},
   "outputs": [
    {
     "data": {
      "text/plain": [
       "(817, 441)"
      ]
     },
     "execution_count": 12,
     "metadata": {},
     "output_type": "execute_result"
    }
   ],
   "source": [
    "train_data.size,test_data.size"
   ]
  },
  {
   "cell_type": "code",
   "execution_count": 13,
   "metadata": {},
   "outputs": [],
   "source": [
    "def create_dataset(dataset, time_step=1):\n",
    "    dataX, dataY = [], []\n",
    "    for i in range(len(dataset)-time_step-1):\n",
    "        a = dataset[i:(i+time_step), 0]  \n",
    "        dataX.append(a)\n",
    "        dataY.append(dataset[i + time_step, 0])\n",
    "    return np.array(dataX), np.array(dataY)"
   ]
  },
  {
   "cell_type": "code",
   "execution_count": 14,
   "metadata": {},
   "outputs": [],
   "source": [
    "time_step = 100\n",
    "X_train, y_train = create_dataset(train_data, time_step)\n",
    "X_test, ytest = create_dataset(test_data, time_step)"
   ]
  },
  {
   "cell_type": "code",
   "execution_count": 15,
   "metadata": {},
   "outputs": [
    {
     "data": {
      "text/plain": [
       "array([0.17607447, 0.17495567, 0.16862282, 0.1696994 , 0.16727181,\n",
       "       0.16794731, 0.16473866, 0.16174111, 0.1581525 , 0.15654817,\n",
       "       0.16271215, 0.1614878 , 0.1554927 , 0.15443722, 0.15730811,\n",
       "       0.15604154, 0.15849025, 0.15308621, 0.15735033, 0.15490163,\n",
       "       0.15946129, 0.15688592, 0.1537195 , 0.14434687, 0.14812547,\n",
       "       0.15308621, 0.15241071, 0.15055307, 0.14924428, 0.13607194,\n",
       "       0.12551718, 0.13906949, 0.14911762, 0.14890653, 0.15401503,\n",
       "       0.16115005, 0.16583636, 0.17618002, 0.17060711, 0.14725998,\n",
       "       0.14700667, 0.14422021, 0.13691632, 0.13949168, 0.13784514,\n",
       "       0.13522756, 0.13071012, 0.11863548, 0.10259225, 0.1058009 ,\n",
       "       0.10466098, 0.10630752, 0.12403952, 0.09773706, 0.10512539,\n",
       "       0.10474542, 0.10816516, 0.11323144, 0.11044499, 0.10415435,\n",
       "       0.09419066, 0.06510175, 0.05395592, 0.0565735 , 0.08169383,\n",
       "       0.09533058, 0.09689268, 0.09465507, 0.07337668, 0.09288187,\n",
       "       0.08456472, 0.07992063, 0.09275521, 0.0836359 , 0.09385291,\n",
       "       0.10077683, 0.10542092, 0.10951617, 0.11006502, 0.09955248,\n",
       "       0.09756818, 0.10499873, 0.09735709, 0.10124124, 0.10411213,\n",
       "       0.10288778, 0.09330406, 0.07903403, 0.08426919, 0.08122942,\n",
       "       0.08460694, 0.0862957 , 0.08853331, 0.0862957 , 0.08089167,\n",
       "       0.09195305, 0.08975766, 0.09055982, 0.08388922, 0.09085536])"
      ]
     },
     "execution_count": 15,
     "metadata": {},
     "output_type": "execute_result"
    }
   ],
   "source": [
    "X_train[0]"
   ]
  },
  {
   "cell_type": "code",
   "execution_count": 16,
   "metadata": {},
   "outputs": [],
   "source": [
    "# create LSTM input\n",
    "# X_train =X_train.reshape(X_train.shape[0],X_train.shape[1] , 1)\n",
    "# X_test = X_test.reshape(X_test.shape[0],X_test.shape[1] , 1)"
   ]
  },
  {
   "cell_type": "code",
   "execution_count": 17,
   "metadata": {},
   "outputs": [
    {
     "data": {
      "text/plain": [
       "(716, 100)"
      ]
     },
     "execution_count": 17,
     "metadata": {},
     "output_type": "execute_result"
    }
   ],
   "source": [
    "X_train.shape"
   ]
  },
  {
   "cell_type": "code",
   "execution_count": 18,
   "metadata": {},
   "outputs": [],
   "source": [
    "from tensorflow.keras.models import Sequential\n",
    "from tensorflow.keras.layers import Dense\n",
    "from tensorflow.keras.layers import LSTM"
   ]
  },
  {
   "cell_type": "code",
   "execution_count": 19,
   "metadata": {},
   "outputs": [
    {
     "name": "stdout",
     "output_type": "stream",
     "text": [
      "Model: \"sequential\"\n",
      "_________________________________________________________________\n",
      " Layer (type)                Output Shape              Param #   \n",
      "=================================================================\n",
      " lstm (LSTM)                 (None, 100, 50)           10400     \n",
      "                                                                 \n",
      " lstm_1 (LSTM)               (None, 100, 50)           20200     \n",
      "                                                                 \n",
      " lstm_2 (LSTM)               (None, 50)                20200     \n",
      "                                                                 \n",
      " dense (Dense)               (None, 1)                 51        \n",
      "                                                                 \n",
      "=================================================================\n",
      "Total params: 50,851\n",
      "Trainable params: 50,851\n",
      "Non-trainable params: 0\n",
      "_________________________________________________________________\n"
     ]
    }
   ],
   "source": [
    "model=Sequential()\n",
    "model.add(LSTM(50,return_sequences=True,input_shape=(100,1)))\n",
    "model.add(LSTM(50,return_sequences=True))\n",
    "model.add(LSTM(50))\n",
    "model.add(Dense(1))\n",
    "model.compile(loss='mean_squared_error',optimizer='adam')\n",
    "model.summary()"
   ]
  },
  {
   "cell_type": "code",
   "execution_count": 20,
   "metadata": {},
   "outputs": [
    {
     "name": "stdout",
     "output_type": "stream",
     "text": [
      "Epoch 1/30\n",
      "12/12 [==============================] - 6s 185ms/step - loss: 0.0162 - val_loss: 0.0620\n",
      "Epoch 2/30\n",
      "12/12 [==============================] - 1s 97ms/step - loss: 0.0036 - val_loss: 0.0044\n",
      "Epoch 3/30\n",
      "12/12 [==============================] - 1s 97ms/step - loss: 9.1412e-04 - val_loss: 0.0043\n",
      "Epoch 4/30\n",
      "12/12 [==============================] - 1s 97ms/step - loss: 8.7140e-04 - val_loss: 0.0040\n",
      "Epoch 5/30\n",
      "12/12 [==============================] - 1s 95ms/step - loss: 7.1339e-04 - val_loss: 0.0056\n",
      "Epoch 6/30\n",
      "12/12 [==============================] - 1s 93ms/step - loss: 6.4730e-04 - val_loss: 0.0052\n",
      "Epoch 7/30\n",
      "12/12 [==============================] - 1s 92ms/step - loss: 6.2245e-04 - val_loss: 0.0047\n",
      "Epoch 8/30\n",
      "12/12 [==============================] - 1s 93ms/step - loss: 5.9129e-04 - val_loss: 0.0044\n",
      "Epoch 9/30\n",
      "12/12 [==============================] - 1s 91ms/step - loss: 5.7804e-04 - val_loss: 0.0036\n",
      "Epoch 10/30\n",
      "12/12 [==============================] - 1s 93ms/step - loss: 5.9801e-04 - val_loss: 0.0036\n",
      "Epoch 11/30\n",
      "12/12 [==============================] - 1s 93ms/step - loss: 6.2843e-04 - val_loss: 0.0035\n",
      "Epoch 12/30\n",
      "12/12 [==============================] - 1s 96ms/step - loss: 5.6768e-04 - val_loss: 0.0035\n",
      "Epoch 13/30\n",
      "12/12 [==============================] - 1s 93ms/step - loss: 5.7997e-04 - val_loss: 0.0033\n",
      "Epoch 14/30\n",
      "12/12 [==============================] - 1s 97ms/step - loss: 5.3451e-04 - val_loss: 0.0030\n",
      "Epoch 15/30\n",
      "12/12 [==============================] - 1s 101ms/step - loss: 5.5655e-04 - val_loss: 0.0030\n",
      "Epoch 16/30\n",
      "12/12 [==============================] - 1s 96ms/step - loss: 5.5608e-04 - val_loss: 0.0029\n",
      "Epoch 17/30\n",
      "12/12 [==============================] - 1s 96ms/step - loss: 5.4451e-04 - val_loss: 0.0038\n",
      "Epoch 18/30\n",
      "12/12 [==============================] - 1s 93ms/step - loss: 5.5492e-04 - val_loss: 0.0033\n",
      "Epoch 19/30\n",
      "12/12 [==============================] - 1s 96ms/step - loss: 5.0305e-04 - val_loss: 0.0038\n",
      "Epoch 20/30\n",
      "12/12 [==============================] - 1s 99ms/step - loss: 5.0868e-04 - val_loss: 0.0029\n",
      "Epoch 21/30\n",
      "12/12 [==============================] - 1s 96ms/step - loss: 4.9423e-04 - val_loss: 0.0025\n",
      "Epoch 22/30\n",
      "12/12 [==============================] - 1s 102ms/step - loss: 5.5866e-04 - val_loss: 0.0025\n",
      "Epoch 23/30\n",
      "12/12 [==============================] - 1s 102ms/step - loss: 5.3851e-04 - val_loss: 0.0040\n",
      "Epoch 24/30\n",
      "12/12 [==============================] - 1s 102ms/step - loss: 5.2193e-04 - val_loss: 0.0032\n",
      "Epoch 25/30\n",
      "12/12 [==============================] - 1s 99ms/step - loss: 5.3192e-04 - val_loss: 0.0025\n",
      "Epoch 26/30\n",
      "12/12 [==============================] - 1s 98ms/step - loss: 5.0934e-04 - val_loss: 0.0023\n",
      "Epoch 27/30\n",
      "12/12 [==============================] - 1s 97ms/step - loss: 4.5572e-04 - val_loss: 0.0022\n",
      "Epoch 28/30\n",
      "12/12 [==============================] - 1s 96ms/step - loss: 4.5116e-04 - val_loss: 0.0024\n",
      "Epoch 29/30\n",
      "12/12 [==============================] - 1s 98ms/step - loss: 4.4929e-04 - val_loss: 0.0020\n",
      "Epoch 30/30\n",
      "12/12 [==============================] - 1s 99ms/step - loss: 4.1004e-04 - val_loss: 0.0019\n"
     ]
    },
    {
     "data": {
      "text/plain": [
       "<keras.callbacks.History at 0x7f8709a7c880>"
      ]
     },
     "execution_count": 20,
     "metadata": {},
     "output_type": "execute_result"
    }
   ],
   "source": [
    "model.fit(X_train,y_train,validation_data=(X_test,ytest),epochs=30,batch_size=64,verbose=1)"
   ]
  },
  {
   "cell_type": "code",
   "execution_count": 21,
   "metadata": {},
   "outputs": [],
   "source": [
    "train_predict=model.predict(X_train)\n",
    "test_predict=model.predict(X_test)"
   ]
  },
  {
   "cell_type": "code",
   "execution_count": 22,
   "metadata": {},
   "outputs": [],
   "source": [
    "train_predict=scaler.inverse_transform(train_predict)\n",
    "test_predict=scaler.inverse_transform(test_predict)"
   ]
  },
  {
   "cell_type": "code",
   "execution_count": 23,
   "metadata": {},
   "outputs": [
    {
     "data": {
      "text/plain": [
       "142.39634131103762"
      ]
     },
     "execution_count": 23,
     "metadata": {},
     "output_type": "execute_result"
    }
   ],
   "source": [
    "### Calculate RMSE performance metrics\n",
    "import math\n",
    "from sklearn.metrics import mean_squared_error\n",
    "math.sqrt(mean_squared_error(y_train,train_predict))"
   ]
  },
  {
   "cell_type": "code",
   "execution_count": 24,
   "metadata": {},
   "outputs": [
    {
     "data": {
      "text/plain": [
       "237.74259819078515"
      ]
     },
     "execution_count": 24,
     "metadata": {},
     "output_type": "execute_result"
    }
   ],
   "source": [
    "### Test Data RMSE\n",
    "math.sqrt(mean_squared_error(ytest,test_predict))"
   ]
  },
  {
   "cell_type": "code",
   "execution_count": 25,
   "metadata": {},
   "outputs": [
    {
     "data": {
      "image/png": "[encoded data removed]",
      "text/plain": [
       "<Figure size 432x288 with 1 Axes>"
      ]
     },
     "metadata": {
      "needs_background": "light"
     },
     "output_type": "display_data"
    }
   ],
   "source": [
    "### Plotting \n",
    "# shift train predictions for plotting\n",
    "look_back=100\n",
    "trainPredictPlot = np.empty_like(df_close)\n",
    "trainPredictPlot[:, :] = np.nan\n",
    "trainPredictPlot[look_back:len(train_predict)+look_back, :] = train_predict\n",
    "# shift test predictions for plotting\n",
    "testPredictPlot = np.empty_like(df_close)\n",
    "testPredictPlot[:, :] = np.nan\n",
    "testPredictPlot[len(train_predict)+(look_back*2)+1:len(df_close)-1, :] = test_predict\n",
    "#plot baseline and predictions\n",
    "plt.plot(scaler.inverse_transform(df_close),label=\"Base\")\n",
    "plt.plot(trainPredictPlot,label = 'Train_pred')\n",
    "plt.plot(testPredictPlot,label = 'Test_pred')\n",
    "plt.legend(loc=\"upper left\")\n",
    "plt.show();"
   ]
  },
  {
   "cell_type": "markdown",
   "metadata": {},
   "source": [
    "### demonstrate prediction for next 10 days"
   ]
  },
  {
   "cell_type": "code",
   "execution_count": 26,
   "metadata": {},
   "outputs": [
    {
     "data": {
      "text/plain": [
       "(1, 100)"
      ]
     },
     "execution_count": 26,
     "metadata": {},
     "output_type": "execute_result"
    }
   ],
   "source": [
    "#day 100 tips : dimension (batch, timestamp, feats)\n",
    "x_input=test_data[341:].reshape(1,-1)\n",
    "x_input.shape"
   ]
  },
  {
   "cell_type": "code",
   "execution_count": 36,
   "metadata": {},
   "outputs": [],
   "source": [
    "#model.predict(np.expand_dims(test_data[341:],0))"
   ]
  },
  {
   "cell_type": "code",
   "execution_count": 28,
   "metadata": {},
   "outputs": [],
   "source": [
    "forecast = []\n",
    "d = 1\n",
    "days = 10\n",
    "\n",
    "while d <= days:\n",
    "    fore_cast = model.predict(x_input)\n",
    "    forecast.append(fore_cast.squeeze())\n",
    "    new_input = np.append(x_input, fore_cast, axis=1)\n",
    "    x_input = new_input.squeeze()[1:].reshape(1,-1)\n",
    "    d += 1\n",
    "    "
   ]
  },
  {
   "cell_type": "code",
   "execution_count": 29,
   "metadata": {},
   "outputs": [],
   "source": [
    "forecast = [scaler.inverse_transform(_.reshape(-1,1)).squeeze().tolist() for _ in forecast]"
   ]
  },
  {
   "cell_type": "code",
   "execution_count": 30,
   "metadata": {},
   "outputs": [],
   "source": [
    "index = np.arange(df_close.shape[0],df_close.shape[0] + 10)"
   ]
  },
  {
   "cell_type": "code",
   "execution_count": 31,
   "metadata": {},
   "outputs": [
    {
     "data": {
      "image/png": "[encoded data removed]",
      "text/plain": [
       "<Figure size 432x288 with 1 Axes>"
      ]
     },
     "metadata": {
      "needs_background": "light"
     },
     "output_type": "display_data"
    }
   ],
   "source": [
    "plt.plot(scaler.inverse_transform(df_close),label=\"Base\")\n",
    "plt.plot(index, forecast, label=\"Forecast\")\n",
    "plt.xlim([1250, 1270])\n",
    "plt.show();"
   ]
  },
  {
   "cell_type": "code",
   "execution_count": null,
   "metadata": {},
   "outputs": [],
   "source": []
  },
  {
   "cell_type": "code",
   "execution_count": null,
   "metadata": {},
   "outputs": [],
   "source": []
  }
 ],
 "metadata": {
  "kernelspec": {
   "display_name": "Python [conda env:575]",
   "language": "python",
   "name": "conda-env-575-py"
  },
  "language_info": {
   "codemirror_mode": {
    "name": "ipython",
    "version": 3
   },
   "file_extension": ".py",
   "mimetype": "text/x-python",
   "name": "python",
   "nbconvert_exporter": "python",
   "pygments_lexer": "ipython3",
   "version": "3.8.8"
  }
 },
 "nbformat": 4,
 "nbformat_minor": 4
}
