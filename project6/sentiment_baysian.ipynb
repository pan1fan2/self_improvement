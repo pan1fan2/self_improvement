{
 "cells": [
  {
   "cell_type": "markdown",
   "metadata": {},
   "source": [
    "# Sentiment analysis : Baysian\n",
    "\n",
    "_deeplearning.ai/Natural Language Processing Specialization_"
   ]
  },
  {
   "cell_type": "code",
   "execution_count": 1,
   "metadata": {},
   "outputs": [],
   "source": [
    "import nltk\n",
    "import os\n",
    "import pandas as pd\n",
    "import numpy as np\n",
    "from nltk.corpus import twitter_samples"
   ]
  },
  {
   "cell_type": "markdown",
   "metadata": {},
   "source": [
    "#### Prepare the data"
   ]
  },
  {
   "cell_type": "code",
   "execution_count": 2,
   "metadata": {},
   "outputs": [],
   "source": [
    "#nltk.download(\"twitter_samples\")"
   ]
  },
  {
   "cell_type": "code",
   "execution_count": 3,
   "metadata": {},
   "outputs": [],
   "source": [
    "all_pos_tweets = twitter_samples.strings(\"positive_tweets.json\")\n",
    "all_neg_tweets = twitter_samples.strings(\"negative_tweets.json\")"
   ]
  },
  {
   "cell_type": "markdown",
   "metadata": {},
   "source": [
    "#### train-test-split"
   ]
  },
  {
   "cell_type": "code",
   "execution_count": 4,
   "metadata": {},
   "outputs": [],
   "source": [
    "X = np.hstack((np.array(all_pos_tweets),np.array(all_pos_tweets)))\n",
    "y = np.hstack((np.zeros(len(all_pos_tweets)),np.ones(len(all_neg_tweets))))"
   ]
  },
  {
   "cell_type": "code",
   "execution_count": 5,
   "metadata": {},
   "outputs": [],
   "source": [
    "import sklearn\n",
    "X_train, X_test, y_train, y_test = sklearn.model_selection.train_test_split(X, y, test_size=0.2, random_state=42)"
   ]
  },
  {
   "cell_type": "markdown",
   "metadata": {},
   "source": [
    "#### Preprocessing word"
   ]
  },
  {
   "cell_type": "code",
   "execution_count": 6,
   "metadata": {},
   "outputs": [],
   "source": [
    "from nltk.corpus import stopwords\n",
    "from nltk.stem import PorterStemmer\n",
    "from nltk.tokenize import TweetTokenizer\n",
    "import re\n",
    "import string\n",
    "\n",
    "def process_tweet(tweet):\n",
    "    \n",
    "    stopwords_ = stopwords.words('english')\n",
    "    # remove stock market ticker\n",
    "    tweet = re.sub(r'\\$\\w*','',tweet)\n",
    "    # remove RT\n",
    "    tweet = re.sub(r'^RT[\\s]+','',tweet)\n",
    "    # remove hyperlink\n",
    "    tweet = re.sub(r'https?:\\/\\/.*[\\r\\n]*', '', tweet)\n",
    "    # remove hashtag\n",
    "    tweet = re.sub(r'#', '', tweet)\n",
    "    \n",
    "    tokenizer = TweetTokenizer(preserve_case = False, strip_handles = True, reduce_len = True)\n",
    "    tweet_tokens = tokenizer.tokenize(tweet)\n",
    "    tweets_clean = []\n",
    "    \n",
    "    for word in tweet_tokens:\n",
    "        if word not in stopwords_ and word not in string.punctuation:\n",
    "            stem_word = PorterStemmer().stem(word)\n",
    "            tweets_clean.append(stem_word)\n",
    "    return tweets_clean"
   ]
  },
  {
   "cell_type": "code",
   "execution_count": 7,
   "metadata": {},
   "outputs": [
    {
     "data": {
      "text/plain": [
       "['hello', 'great', 'day', ':)', 'good', 'morn']"
      ]
     },
     "execution_count": 7,
     "metadata": {},
     "output_type": "execute_result"
    }
   ],
   "source": [
    "# Test\n",
    "custom_tweet = \"RT @Twitter @chapagain Hello There! Have a great day. :) #good #morning http://chapagain.com.np\"\n",
    "\n",
    "process_tweet(custom_tweet)"
   ]
  },
  {
   "cell_type": "code",
   "execution_count": 8,
   "metadata": {},
   "outputs": [],
   "source": [
    "def word_freqs(tweets,class_):\n",
    "    freq_dict = {}\n",
    "    tweets = tweets.tolist()\n",
    "    class_ = class_.tolist()\n",
    "    for tweet,c in zip(tweets,class_):\n",
    "        for word in process_tweet(tweet):\n",
    "            if (word,c) not in freq_dict:\n",
    "                freq_dict[(word,c)] = 1\n",
    "            else:\n",
    "                freq_dict[(word,c)] += 1\n",
    "    return freq_dict"
   ]
  },
  {
   "cell_type": "code",
   "execution_count": 9,
   "metadata": {},
   "outputs": [
    {
     "data": {
      "text/plain": [
       "{('happi', 1): 1, ('trick', 0): 1, ('sad', 0): 1, ('tire', 0): 2}"
      ]
     },
     "execution_count": 9,
     "metadata": {},
     "output_type": "execute_result"
    }
   ],
   "source": [
    "# Test\n",
    "\n",
    "tweets = np.array(['i am happy', 'i am tricked', 'i am sad', 'i am tired', 'i am tired'])\n",
    "ys = np.array([1, 0, 0, 0, 0])\n",
    "word_freqs(tweets, ys)"
   ]
  },
  {
   "cell_type": "code",
   "execution_count": 10,
   "metadata": {},
   "outputs": [
    {
     "data": {
      "text/html": [
       "<div>\n",
       "<style scoped>\n",
       "    .dataframe tbody tr th:only-of-type {\n",
       "        vertical-align: middle;\n",
       "    }\n",
       "\n",
       "    .dataframe tbody tr th {\n",
       "        vertical-align: top;\n",
       "    }\n",
       "\n",
       "    .dataframe thead th {\n",
       "        text-align: right;\n",
       "    }\n",
       "</style>\n",
       "<table border=\"1\" class=\"dataframe\">\n",
       "  <thead>\n",
       "    <tr style=\"text-align: right;\">\n",
       "      <th></th>\n",
       "      <th>Pairs</th>\n",
       "      <th>Frequence</th>\n",
       "    </tr>\n",
       "  </thead>\n",
       "  <tbody>\n",
       "    <tr>\n",
       "      <th>0</th>\n",
       "      <td>(friday, 1.0)</td>\n",
       "      <td>91</td>\n",
       "    </tr>\n",
       "    <tr>\n",
       "      <th>1</th>\n",
       "      <td>(:), 1.0)</td>\n",
       "      <td>2891</td>\n",
       "    </tr>\n",
       "    <tr>\n",
       "      <th>2</th>\n",
       "      <td>(good, 0.0)</td>\n",
       "      <td>195</td>\n",
       "    </tr>\n",
       "    <tr>\n",
       "      <th>3</th>\n",
       "      <td>(thank, 0.0)</td>\n",
       "      <td>464</td>\n",
       "    </tr>\n",
       "    <tr>\n",
       "      <th>4</th>\n",
       "      <td>(anyway, 0.0)</td>\n",
       "      <td>13</td>\n",
       "    </tr>\n",
       "  </tbody>\n",
       "</table>\n",
       "</div>"
      ],
      "text/plain": [
       "           Pairs  Frequence\n",
       "0  (friday, 1.0)         91\n",
       "1      (:), 1.0)       2891\n",
       "2    (good, 0.0)        195\n",
       "3   (thank, 0.0)        464\n",
       "4  (anyway, 0.0)         13"
      ]
     },
     "execution_count": 10,
     "metadata": {},
     "output_type": "execute_result"
    }
   ],
   "source": [
    "freqs = word_freqs(X_train,y_train)\n",
    "freq_dict = pd.DataFrame({'Pairs': list(freqs.keys()), 'Frequence': list(freqs.values())})\n",
    "freq_dict.head()"
   ]
  },
  {
   "cell_type": "markdown",
   "metadata": {},
   "source": [
    "#### Create the freq table like the lecture note"
   ]
  },
  {
   "cell_type": "code",
   "execution_count": 11,
   "metadata": {},
   "outputs": [
    {
     "data": {
      "text/html": [
       "<div>\n",
       "<style scoped>\n",
       "    .dataframe tbody tr th:only-of-type {\n",
       "        vertical-align: middle;\n",
       "    }\n",
       "\n",
       "    .dataframe tbody tr th {\n",
       "        vertical-align: top;\n",
       "    }\n",
       "\n",
       "    .dataframe thead th {\n",
       "        text-align: right;\n",
       "    }\n",
       "</style>\n",
       "<table border=\"1\" class=\"dataframe\">\n",
       "  <thead>\n",
       "    <tr style=\"text-align: right;\">\n",
       "      <th></th>\n",
       "      <th>Pairs</th>\n",
       "      <th>Frequence</th>\n",
       "      <th>Vocabulary</th>\n",
       "      <th>Class</th>\n",
       "    </tr>\n",
       "  </thead>\n",
       "  <tbody>\n",
       "    <tr>\n",
       "      <th>0</th>\n",
       "      <td>(friday, 1.0)</td>\n",
       "      <td>91</td>\n",
       "      <td>friday</td>\n",
       "      <td>1.0</td>\n",
       "    </tr>\n",
       "    <tr>\n",
       "      <th>1</th>\n",
       "      <td>(:), 1.0)</td>\n",
       "      <td>2891</td>\n",
       "      <td>:)</td>\n",
       "      <td>1.0</td>\n",
       "    </tr>\n",
       "    <tr>\n",
       "      <th>2</th>\n",
       "      <td>(good, 0.0)</td>\n",
       "      <td>195</td>\n",
       "      <td>good</td>\n",
       "      <td>0.0</td>\n",
       "    </tr>\n",
       "    <tr>\n",
       "      <th>3</th>\n",
       "      <td>(thank, 0.0)</td>\n",
       "      <td>464</td>\n",
       "      <td>thank</td>\n",
       "      <td>0.0</td>\n",
       "    </tr>\n",
       "    <tr>\n",
       "      <th>4</th>\n",
       "      <td>(anyway, 0.0)</td>\n",
       "      <td>13</td>\n",
       "      <td>anyway</td>\n",
       "      <td>0.0</td>\n",
       "    </tr>\n",
       "    <tr>\n",
       "      <th>...</th>\n",
       "      <td>...</td>\n",
       "      <td>...</td>\n",
       "      <td>...</td>\n",
       "      <td>...</td>\n",
       "    </tr>\n",
       "    <tr>\n",
       "      <th>11518</th>\n",
       "      <td>(unreal, 1.0)</td>\n",
       "      <td>1</td>\n",
       "      <td>unreal</td>\n",
       "      <td>1.0</td>\n",
       "    </tr>\n",
       "    <tr>\n",
       "      <th>11519</th>\n",
       "      <td>(zain, 1.0)</td>\n",
       "      <td>1</td>\n",
       "      <td>zain</td>\n",
       "      <td>1.0</td>\n",
       "    </tr>\n",
       "    <tr>\n",
       "      <th>11520</th>\n",
       "      <td>(zac, 1.0)</td>\n",
       "      <td>1</td>\n",
       "      <td>zac</td>\n",
       "      <td>1.0</td>\n",
       "    </tr>\n",
       "    <tr>\n",
       "      <th>11521</th>\n",
       "      <td>(isaac, 1.0)</td>\n",
       "      <td>1</td>\n",
       "      <td>isaac</td>\n",
       "      <td>1.0</td>\n",
       "    </tr>\n",
       "    <tr>\n",
       "      <th>11522</th>\n",
       "      <td>(oss, 1.0)</td>\n",
       "      <td>1</td>\n",
       "      <td>oss</td>\n",
       "      <td>1.0</td>\n",
       "    </tr>\n",
       "  </tbody>\n",
       "</table>\n",
       "<p>11523 rows × 4 columns</p>\n",
       "</div>"
      ],
      "text/plain": [
       "               Pairs  Frequence Vocabulary  Class\n",
       "0      (friday, 1.0)         91     friday    1.0\n",
       "1          (:), 1.0)       2891         :)    1.0\n",
       "2        (good, 0.0)        195       good    0.0\n",
       "3       (thank, 0.0)        464      thank    0.0\n",
       "4      (anyway, 0.0)         13     anyway    0.0\n",
       "...              ...        ...        ...    ...\n",
       "11518  (unreal, 1.0)          1     unreal    1.0\n",
       "11519    (zain, 1.0)          1       zain    1.0\n",
       "11520     (zac, 1.0)          1        zac    1.0\n",
       "11521   (isaac, 1.0)          1      isaac    1.0\n",
       "11522     (oss, 1.0)          1        oss    1.0\n",
       "\n",
       "[11523 rows x 4 columns]"
      ]
     },
     "execution_count": 11,
     "metadata": {},
     "output_type": "execute_result"
    }
   ],
   "source": [
    "word_freq = freq_dict.copy()\n",
    "word_freq[\"Vocabulary\"] = word_freq[\"Pairs\"].apply(lambda x : x[0])\n",
    "word_freq[\"Class\"] = word_freq[\"Pairs\"].apply(lambda x : x[1])\n",
    "word_freq"
   ]
  },
  {
   "cell_type": "code",
   "execution_count": 12,
   "metadata": {},
   "outputs": [],
   "source": [
    "key_words = list(set(list(word_freq.Vocabulary.values)))\n",
    "freq_dict_info = pd.DataFrame(columns = [\"Vocabulary\",\"PosFreq(1)\",\"NegFreq(0)\"])\n",
    "\n",
    "for w in key_words:\n",
    "    pos_freq = freqs.get((w,1.0),0)\n",
    "    neg_freq = freqs.get((w,0.0),0)\n",
    "    freq_dict_info = freq_dict_info.append({\"Vocabulary\": w, \"PosFreq(1)\" : pos_freq,\"NegFreq(0)\":neg_freq},ignore_index=True)"
   ]
  },
  {
   "cell_type": "code",
   "execution_count": 13,
   "metadata": {},
   "outputs": [
    {
     "data": {
      "text/html": [
       "<div>\n",
       "<style scoped>\n",
       "    .dataframe tbody tr th:only-of-type {\n",
       "        vertical-align: middle;\n",
       "    }\n",
       "\n",
       "    .dataframe tbody tr th {\n",
       "        vertical-align: top;\n",
       "    }\n",
       "\n",
       "    .dataframe thead th {\n",
       "        text-align: right;\n",
       "    }\n",
       "</style>\n",
       "<table border=\"1\" class=\"dataframe\">\n",
       "  <thead>\n",
       "    <tr style=\"text-align: right;\">\n",
       "      <th></th>\n",
       "      <th>Vocabulary</th>\n",
       "      <th>PosFreq(1)</th>\n",
       "      <th>NegFreq(0)</th>\n",
       "    </tr>\n",
       "  </thead>\n",
       "  <tbody>\n",
       "    <tr>\n",
       "      <th>3519</th>\n",
       "      <td>(-:</td>\n",
       "      <td>2</td>\n",
       "      <td>2</td>\n",
       "    </tr>\n",
       "    <tr>\n",
       "      <th>5981</th>\n",
       "      <td>(:</td>\n",
       "      <td>0</td>\n",
       "      <td>1</td>\n",
       "    </tr>\n",
       "    <tr>\n",
       "      <th>1762</th>\n",
       "      <td>):</td>\n",
       "      <td>5</td>\n",
       "      <td>5</td>\n",
       "    </tr>\n",
       "    <tr>\n",
       "      <th>4573</th>\n",
       "      <td>---&gt;</td>\n",
       "      <td>1</td>\n",
       "      <td>0</td>\n",
       "    </tr>\n",
       "    <tr>\n",
       "      <th>2016</th>\n",
       "      <td>--&gt;</td>\n",
       "      <td>2</td>\n",
       "      <td>2</td>\n",
       "    </tr>\n",
       "    <tr>\n",
       "      <th>...</th>\n",
       "      <td>...</td>\n",
       "      <td>...</td>\n",
       "      <td>...</td>\n",
       "    </tr>\n",
       "    <tr>\n",
       "      <th>4770</th>\n",
       "      <td>🚂</td>\n",
       "      <td>0</td>\n",
       "      <td>1</td>\n",
       "    </tr>\n",
       "    <tr>\n",
       "      <th>2469</th>\n",
       "      <td>🚮</td>\n",
       "      <td>1</td>\n",
       "      <td>1</td>\n",
       "    </tr>\n",
       "    <tr>\n",
       "      <th>1024</th>\n",
       "      <td>🚲</td>\n",
       "      <td>2</td>\n",
       "      <td>2</td>\n",
       "    </tr>\n",
       "    <tr>\n",
       "      <th>3432</th>\n",
       "      <td>󾌴</td>\n",
       "      <td>1</td>\n",
       "      <td>0</td>\n",
       "    </tr>\n",
       "    <tr>\n",
       "      <th>4702</th>\n",
       "      <td>󾰀</td>\n",
       "      <td>1</td>\n",
       "      <td>1</td>\n",
       "    </tr>\n",
       "  </tbody>\n",
       "</table>\n",
       "<p>6433 rows × 3 columns</p>\n",
       "</div>"
      ],
      "text/plain": [
       "     Vocabulary PosFreq(1) NegFreq(0)\n",
       "3519        (-:          2          2\n",
       "5981         (:          0          1\n",
       "1762         ):          5          5\n",
       "4573       --->          1          0\n",
       "2016        -->          2          2\n",
       "...         ...        ...        ...\n",
       "4770          🚂          0          1\n",
       "2469          🚮          1          1\n",
       "1024          🚲          2          2\n",
       "3432          󾌴          1          0\n",
       "4702          󾰀          1          1\n",
       "\n",
       "[6433 rows x 3 columns]"
      ]
     },
     "execution_count": 13,
     "metadata": {},
     "output_type": "execute_result"
    }
   ],
   "source": [
    "freq_dict_info = freq_dict_info.sort_values(['Vocabulary'])\n",
    "freq_dict_info"
   ]
  },
  {
   "cell_type": "code",
   "execution_count": 14,
   "metadata": {},
   "outputs": [
    {
     "data": {
      "text/html": [
       "<div>\n",
       "<style scoped>\n",
       "    .dataframe tbody tr th:only-of-type {\n",
       "        vertical-align: middle;\n",
       "    }\n",
       "\n",
       "    .dataframe tbody tr th {\n",
       "        vertical-align: top;\n",
       "    }\n",
       "\n",
       "    .dataframe thead th {\n",
       "        text-align: right;\n",
       "    }\n",
       "</style>\n",
       "<table border=\"1\" class=\"dataframe\">\n",
       "  <thead>\n",
       "    <tr style=\"text-align: right;\">\n",
       "      <th></th>\n",
       "      <th>Vocabulary</th>\n",
       "      <th>PosFreq(1)</th>\n",
       "      <th>NegFreq(0)</th>\n",
       "    </tr>\n",
       "  </thead>\n",
       "  <tbody>\n",
       "    <tr>\n",
       "      <th>2087</th>\n",
       "      <td>laiten</td>\n",
       "      <td>0</td>\n",
       "      <td>1</td>\n",
       "    </tr>\n",
       "    <tr>\n",
       "      <th>1309</th>\n",
       "      <td>maxfreshmov</td>\n",
       "      <td>0</td>\n",
       "      <td>2</td>\n",
       "    </tr>\n",
       "    <tr>\n",
       "      <th>3406</th>\n",
       "      <td>mayhem</td>\n",
       "      <td>0</td>\n",
       "      <td>1</td>\n",
       "    </tr>\n",
       "    <tr>\n",
       "      <th>5906</th>\n",
       "      <td>mb</td>\n",
       "      <td>0</td>\n",
       "      <td>1</td>\n",
       "    </tr>\n",
       "    <tr>\n",
       "      <th>1446</th>\n",
       "      <td>mba</td>\n",
       "      <td>0</td>\n",
       "      <td>1</td>\n",
       "    </tr>\n",
       "    <tr>\n",
       "      <th>...</th>\n",
       "      <td>...</td>\n",
       "      <td>...</td>\n",
       "      <td>...</td>\n",
       "    </tr>\n",
       "    <tr>\n",
       "      <th>1068</th>\n",
       "      <td>love</td>\n",
       "      <td>313</td>\n",
       "      <td>325</td>\n",
       "    </tr>\n",
       "    <tr>\n",
       "      <th>2517</th>\n",
       "      <td>:D</td>\n",
       "      <td>504</td>\n",
       "      <td>471</td>\n",
       "    </tr>\n",
       "    <tr>\n",
       "      <th>811</th>\n",
       "      <td>thank</td>\n",
       "      <td>505</td>\n",
       "      <td>464</td>\n",
       "    </tr>\n",
       "    <tr>\n",
       "      <th>627</th>\n",
       "      <td>:-)</td>\n",
       "      <td>532</td>\n",
       "      <td>560</td>\n",
       "    </tr>\n",
       "    <tr>\n",
       "      <th>2987</th>\n",
       "      <td>:)</td>\n",
       "      <td>2891</td>\n",
       "      <td>2851</td>\n",
       "    </tr>\n",
       "  </tbody>\n",
       "</table>\n",
       "<p>6433 rows × 3 columns</p>\n",
       "</div>"
      ],
      "text/plain": [
       "       Vocabulary PosFreq(1) NegFreq(0)\n",
       "2087       laiten          0          1\n",
       "1309  maxfreshmov          0          2\n",
       "3406       mayhem          0          1\n",
       "5906           mb          0          1\n",
       "1446          mba          0          1\n",
       "...           ...        ...        ...\n",
       "1068         love        313        325\n",
       "2517           :D        504        471\n",
       "811         thank        505        464\n",
       "627           :-)        532        560\n",
       "2987           :)       2891       2851\n",
       "\n",
       "[6433 rows x 3 columns]"
      ]
     },
     "execution_count": 14,
     "metadata": {},
     "output_type": "execute_result"
    }
   ],
   "source": [
    "freq_dict_info.sort_values([\"PosFreq(1)\"])"
   ]
  },
  {
   "cell_type": "markdown",
   "metadata": {},
   "source": [
    "#### Laplacian smoothing"
   ]
  },
  {
   "cell_type": "markdown",
   "metadata": {},
   "source": [
    "$$ P(W_{pos}) = \\frac{freq_{pos} + 1}{N_{pos} + V} $$\n",
    "\n",
    "- the total number of positive words and total number of negative words $N_{pos}$ and $N_{neg}$.\n",
    "- the total number of unique positive words, $V_{pos}$, and total <strong>unique</strong> negative words $V_{neg}$."
   ]
  },
  {
   "cell_type": "code",
   "execution_count": 15,
   "metadata": {},
   "outputs": [],
   "source": [
    "freq_dict_info[\"Prob_pos\"] = (freq_dict_info[\"PosFreq(1)\"] + 1) / (np.sum(freq_dict_info[\"PosFreq(1)\"]) + len(freq_dict_info))\n",
    "freq_dict_info[\"Prob_neg\"] = (freq_dict_info[\"NegFreq(0)\"] + 1) / (np.sum(freq_dict_info[\"NegFreq(0)\"]) + len(freq_dict_info))"
   ]
  },
  {
   "cell_type": "code",
   "execution_count": 16,
   "metadata": {},
   "outputs": [
    {
     "data": {
      "text/html": [
       "<div>\n",
       "<style scoped>\n",
       "    .dataframe tbody tr th:only-of-type {\n",
       "        vertical-align: middle;\n",
       "    }\n",
       "\n",
       "    .dataframe tbody tr th {\n",
       "        vertical-align: top;\n",
       "    }\n",
       "\n",
       "    .dataframe thead th {\n",
       "        text-align: right;\n",
       "    }\n",
       "</style>\n",
       "<table border=\"1\" class=\"dataframe\">\n",
       "  <thead>\n",
       "    <tr style=\"text-align: right;\">\n",
       "      <th></th>\n",
       "      <th>Vocabulary</th>\n",
       "      <th>PosFreq(1)</th>\n",
       "      <th>NegFreq(0)</th>\n",
       "      <th>Prob_pos</th>\n",
       "      <th>Prob_neg</th>\n",
       "      <th>ratio</th>\n",
       "    </tr>\n",
       "  </thead>\n",
       "  <tbody>\n",
       "    <tr>\n",
       "      <th>3519</th>\n",
       "      <td>(-:</td>\n",
       "      <td>2</td>\n",
       "      <td>2</td>\n",
       "      <td>0.000089</td>\n",
       "      <td>0.00009</td>\n",
       "      <td>0.994392</td>\n",
       "    </tr>\n",
       "    <tr>\n",
       "      <th>5981</th>\n",
       "      <td>(:</td>\n",
       "      <td>0</td>\n",
       "      <td>1</td>\n",
       "      <td>0.00003</td>\n",
       "      <td>0.00006</td>\n",
       "      <td>0.497196</td>\n",
       "    </tr>\n",
       "    <tr>\n",
       "      <th>1762</th>\n",
       "      <td>):</td>\n",
       "      <td>5</td>\n",
       "      <td>5</td>\n",
       "      <td>0.000179</td>\n",
       "      <td>0.00018</td>\n",
       "      <td>0.994392</td>\n",
       "    </tr>\n",
       "    <tr>\n",
       "      <th>4573</th>\n",
       "      <td>---&gt;</td>\n",
       "      <td>1</td>\n",
       "      <td>0</td>\n",
       "      <td>0.00006</td>\n",
       "      <td>0.00003</td>\n",
       "      <td>1.988785</td>\n",
       "    </tr>\n",
       "    <tr>\n",
       "      <th>2016</th>\n",
       "      <td>--&gt;</td>\n",
       "      <td>2</td>\n",
       "      <td>2</td>\n",
       "      <td>0.000089</td>\n",
       "      <td>0.00009</td>\n",
       "      <td>0.994392</td>\n",
       "    </tr>\n",
       "    <tr>\n",
       "      <th>...</th>\n",
       "      <td>...</td>\n",
       "      <td>...</td>\n",
       "      <td>...</td>\n",
       "      <td>...</td>\n",
       "      <td>...</td>\n",
       "      <td>...</td>\n",
       "    </tr>\n",
       "    <tr>\n",
       "      <th>4770</th>\n",
       "      <td>🚂</td>\n",
       "      <td>0</td>\n",
       "      <td>1</td>\n",
       "      <td>0.00003</td>\n",
       "      <td>0.00006</td>\n",
       "      <td>0.497196</td>\n",
       "    </tr>\n",
       "    <tr>\n",
       "      <th>2469</th>\n",
       "      <td>🚮</td>\n",
       "      <td>1</td>\n",
       "      <td>1</td>\n",
       "      <td>0.00006</td>\n",
       "      <td>0.00006</td>\n",
       "      <td>0.994392</td>\n",
       "    </tr>\n",
       "    <tr>\n",
       "      <th>1024</th>\n",
       "      <td>🚲</td>\n",
       "      <td>2</td>\n",
       "      <td>2</td>\n",
       "      <td>0.000089</td>\n",
       "      <td>0.00009</td>\n",
       "      <td>0.994392</td>\n",
       "    </tr>\n",
       "    <tr>\n",
       "      <th>3432</th>\n",
       "      <td>󾌴</td>\n",
       "      <td>1</td>\n",
       "      <td>0</td>\n",
       "      <td>0.00006</td>\n",
       "      <td>0.00003</td>\n",
       "      <td>1.988785</td>\n",
       "    </tr>\n",
       "    <tr>\n",
       "      <th>4702</th>\n",
       "      <td>󾰀</td>\n",
       "      <td>1</td>\n",
       "      <td>1</td>\n",
       "      <td>0.00006</td>\n",
       "      <td>0.00006</td>\n",
       "      <td>0.994392</td>\n",
       "    </tr>\n",
       "  </tbody>\n",
       "</table>\n",
       "<p>6433 rows × 6 columns</p>\n",
       "</div>"
      ],
      "text/plain": [
       "     Vocabulary PosFreq(1) NegFreq(0)  Prob_pos Prob_neg     ratio\n",
       "3519        (-:          2          2  0.000089  0.00009  0.994392\n",
       "5981         (:          0          1   0.00003  0.00006  0.497196\n",
       "1762         ):          5          5  0.000179  0.00018  0.994392\n",
       "4573       --->          1          0   0.00006  0.00003  1.988785\n",
       "2016        -->          2          2  0.000089  0.00009  0.994392\n",
       "...         ...        ...        ...       ...      ...       ...\n",
       "4770          🚂          0          1   0.00003  0.00006  0.497196\n",
       "2469          🚮          1          1   0.00006  0.00006  0.994392\n",
       "1024          🚲          2          2  0.000089  0.00009  0.994392\n",
       "3432          󾌴          1          0   0.00006  0.00003  1.988785\n",
       "4702          󾰀          1          1   0.00006  0.00006  0.994392\n",
       "\n",
       "[6433 rows x 6 columns]"
      ]
     },
     "execution_count": 16,
     "metadata": {},
     "output_type": "execute_result"
    }
   ],
   "source": [
    "freq_dict_info[\"ratio\"] = freq_dict_info[\"Prob_pos\"] / freq_dict_info[\"Prob_neg\"] \n",
    "freq_dict_info"
   ]
  },
  {
   "cell_type": "code",
   "execution_count": 17,
   "metadata": {},
   "outputs": [],
   "source": [
    "#np.sum(freq_dict_info.Prob_neg)"
   ]
  },
  {
   "cell_type": "code",
   "execution_count": 18,
   "metadata": {},
   "outputs": [],
   "source": [
    "N_pos_tweet = np.sum(y_train)\n",
    "N_neg_tweet = len(y_train) - np.sum(y_train)\n",
    "Prob_pos_tweet = N_pos_tweet / len(y_train)\n",
    "Prob_neg_tweet = N_neg_tweet / len(y_train)"
   ]
  },
  {
   "cell_type": "code",
   "execution_count": 19,
   "metadata": {},
   "outputs": [],
   "source": [
    "#Prob_pos_tweet + Prob_neg_tweet == 1"
   ]
  },
  {
   "cell_type": "markdown",
   "metadata": {},
   "source": [
    "$$ p = logprior + \\sum_i^N (loglikelihood_i)$$"
   ]
  },
  {
   "cell_type": "code",
   "execution_count": 20,
   "metadata": {},
   "outputs": [],
   "source": [
    "def naive_bayes_predict(tweet,logprior,df):\n",
    "    words = process_tweet(tweet)\n",
    "    p = 0\n",
    "    p += logprior\n",
    "    for word in words:\n",
    "        if word in df.Vocabulary.values.tolist():\n",
    "            p += np.log(df.loc[df[\"Vocabulary\"] == word].ratio.values[0])\n",
    "        \n",
    "    return p"
   ]
  },
  {
   "cell_type": "code",
   "execution_count": 21,
   "metadata": {},
   "outputs": [
    {
     "name": "stdout",
     "output_type": "stream",
     "text": [
      "The expected output is 0.062252052029994835\n"
     ]
    }
   ],
   "source": [
    "my_tweet = 'She smiled.'\n",
    "logprior = np.log(Prob_pos_tweet / Prob_neg_tweet)\n",
    "p = naive_bayes_predict(my_tweet, logprior, freq_dict_info)\n",
    "print('The expected output is', p)"
   ]
  },
  {
   "cell_type": "code",
   "execution_count": null,
   "metadata": {},
   "outputs": [],
   "source": []
  }
 ],
 "metadata": {
  "kernelspec": {
   "display_name": "Python [conda env:575]",
   "language": "python",
   "name": "conda-env-575-py"
  },
  "language_info": {
   "codemirror_mode": {
    "name": "ipython",
    "version": 3
   },
   "file_extension": ".py",
   "mimetype": "text/x-python",
   "name": "python",
   "nbconvert_exporter": "python",
   "pygments_lexer": "ipython3",
   "version": "3.8.8"
  }
 },
 "nbformat": 4,
 "nbformat_minor": 4
}
